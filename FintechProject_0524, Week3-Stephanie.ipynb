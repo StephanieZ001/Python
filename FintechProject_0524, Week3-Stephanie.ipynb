{
 "cells": [
  {
   "cell_type": "markdown",
   "metadata": {},
   "source": [
    "# FinTech Project"
   ]
  },
  {
   "cell_type": "code",
   "execution_count": 1,
   "metadata": {
    "collapsed": true
   },
   "outputs": [],
   "source": [
    "import pandas as pd\n",
    "import numpy as np\n",
    "import matplotlib.pyplot as plt\n",
    "%matplotlib inline\n",
    "import requests"
   ]
  },
  {
   "cell_type": "code",
   "execution_count": 2,
   "metadata": {
    "collapsed": false
   },
   "outputs": [],
   "source": [
    "df_old = pd.read_csv('/Users/Stephanie_Zhang/Desktop/LendingClub项目/LoanStats3c.csv')"
   ]
  },
  {
   "cell_type": "code",
   "execution_count": 3,
   "metadata": {
    "collapsed": false
   },
   "outputs": [
    {
     "data": {
      "text/html": [
       "<div>\n",
       "<table border=\"1\" class=\"dataframe\">\n",
       "  <thead>\n",
       "    <tr style=\"text-align: right;\">\n",
       "      <th></th>\n",
       "      <th>loan_amnt</th>\n",
       "      <th>funded_amnt</th>\n",
       "      <th>funded_amnt_inv</th>\n",
       "      <th>term</th>\n",
       "      <th>int_rate</th>\n",
       "      <th>installment</th>\n",
       "      <th>grade</th>\n",
       "      <th>sub_grade</th>\n",
       "      <th>emp_title</th>\n",
       "      <th>emp_length</th>\n",
       "      <th>...</th>\n",
       "      <th>num_tl_90g_dpd_24m</th>\n",
       "      <th>num_tl_op_past_12m</th>\n",
       "      <th>pct_tl_nvr_dlq</th>\n",
       "      <th>percent_bc_gt_75</th>\n",
       "      <th>pub_rec_bankruptcies</th>\n",
       "      <th>tax_liens</th>\n",
       "      <th>tot_hi_cred_lim</th>\n",
       "      <th>total_bal_ex_mort</th>\n",
       "      <th>total_bc_limit</th>\n",
       "      <th>total_il_high_credit_limit</th>\n",
       "    </tr>\n",
       "  </thead>\n",
       "  <tbody>\n",
       "    <tr>\n",
       "      <th>0</th>\n",
       "      <td>10400</td>\n",
       "      <td>10400</td>\n",
       "      <td>10400</td>\n",
       "      <td>36 months</td>\n",
       "      <td>6.99%</td>\n",
       "      <td>321.08</td>\n",
       "      <td>A</td>\n",
       "      <td>A3</td>\n",
       "      <td>Truck Driver Delivery Personel</td>\n",
       "      <td>8 years</td>\n",
       "      <td>...</td>\n",
       "      <td>0</td>\n",
       "      <td>4</td>\n",
       "      <td>83.3</td>\n",
       "      <td>14.3</td>\n",
       "      <td>0</td>\n",
       "      <td>0</td>\n",
       "      <td>179407</td>\n",
       "      <td>15030</td>\n",
       "      <td>13000</td>\n",
       "      <td>11325</td>\n",
       "    </tr>\n",
       "    <tr>\n",
       "      <th>1</th>\n",
       "      <td>15000</td>\n",
       "      <td>15000</td>\n",
       "      <td>15000</td>\n",
       "      <td>60 months</td>\n",
       "      <td>12.39%</td>\n",
       "      <td>336.64</td>\n",
       "      <td>C</td>\n",
       "      <td>C1</td>\n",
       "      <td>MANAGEMENT</td>\n",
       "      <td>10+ years</td>\n",
       "      <td>...</td>\n",
       "      <td>0</td>\n",
       "      <td>4</td>\n",
       "      <td>100.0</td>\n",
       "      <td>0.0</td>\n",
       "      <td>0</td>\n",
       "      <td>0</td>\n",
       "      <td>196500</td>\n",
       "      <td>149140</td>\n",
       "      <td>10000</td>\n",
       "      <td>12000</td>\n",
       "    </tr>\n",
       "  </tbody>\n",
       "</table>\n",
       "<p>2 rows × 107 columns</p>\n",
       "</div>"
      ],
      "text/plain": [
       "   loan_amnt  funded_amnt  funded_amnt_inv        term int_rate  installment  \\\n",
       "0      10400        10400            10400   36 months    6.99%       321.08   \n",
       "1      15000        15000            15000   60 months   12.39%       336.64   \n",
       "\n",
       "  grade sub_grade                       emp_title emp_length  \\\n",
       "0     A        A3  Truck Driver Delivery Personel    8 years   \n",
       "1     C        C1                      MANAGEMENT  10+ years   \n",
       "\n",
       "             ...             num_tl_90g_dpd_24m  num_tl_op_past_12m  \\\n",
       "0            ...                              0                   4   \n",
       "1            ...                              0                   4   \n",
       "\n",
       "  pct_tl_nvr_dlq percent_bc_gt_75 pub_rec_bankruptcies tax_liens  \\\n",
       "0           83.3             14.3                    0         0   \n",
       "1          100.0              0.0                    0         0   \n",
       "\n",
       "  tot_hi_cred_lim total_bal_ex_mort total_bc_limit total_il_high_credit_limit  \n",
       "0          179407             15030          13000                      11325  \n",
       "1          196500            149140          10000                      12000  \n",
       "\n",
       "[2 rows x 107 columns]"
      ]
     },
     "execution_count": 3,
     "metadata": {},
     "output_type": "execute_result"
    }
   ],
   "source": [
    "df_old.head(2)"
   ]
  },
  {
   "cell_type": "code",
   "execution_count": 4,
   "metadata": {
    "collapsed": false
   },
   "outputs": [],
   "source": [
    "import requests\n",
    "import json\n",
    "header = { 'Authorization': 'MFlsdMVZe6dtdw/RzMruKtl6y1k='}\n",
    "r = requests.get(\"https://api.lendingclub.com/api/investor/v1/loans/listing\", headers = header)"
   ]
  },
  {
   "cell_type": "code",
   "execution_count": 5,
   "metadata": {
    "collapsed": false
   },
   "outputs": [
    {
     "data": {
      "text/plain": [
       "dict"
      ]
     },
     "execution_count": 5,
     "metadata": {},
     "output_type": "execute_result"
    }
   ],
   "source": [
    "type(r.json())"
   ]
  },
  {
   "cell_type": "code",
   "execution_count": 6,
   "metadata": {
    "collapsed": false
   },
   "outputs": [],
   "source": [
    "data = r.json()\n",
    "myData = data['loans']\n",
    "with open('testdata.txt', 'w') as outfile:\n",
    "    json.dump(myData, outfile)\n",
    "df_Curr = pd.read_json('testdata.txt')"
   ]
  },
  {
   "cell_type": "code",
   "execution_count": 7,
   "metadata": {
    "collapsed": false
   },
   "outputs": [
    {
     "data": {
      "text/plain": [
       "84"
      ]
     },
     "execution_count": 7,
     "metadata": {},
     "output_type": "execute_result"
    }
   ],
   "source": [
    "len(df_Curr)"
   ]
  },
  {
   "cell_type": "code",
   "execution_count": 8,
   "metadata": {
    "collapsed": false
   },
   "outputs": [
    {
     "data": {
      "text/plain": [
       "Index(['accNowDelinq', 'accOpenPast24Mths', 'acceptD', 'addrState', 'addrZip',\n",
       "       'allUtil', 'annualInc', 'annualIncJoint', 'applicationType',\n",
       "       'avgCurBal',\n",
       "       ...\n",
       "       'totCollAmt', 'totCurBal', 'totHiCredLim', 'totalAcc', 'totalBalExMort',\n",
       "       'totalBalIl', 'totalBcLimit', 'totalCuTl', 'totalIlHighCreditLimit',\n",
       "       'totalRevHiLim'],\n",
       "      dtype='object', length=103)"
      ]
     },
     "execution_count": 8,
     "metadata": {},
     "output_type": "execute_result"
    }
   ],
   "source": [
    "df_Curr.columns"
   ]
  },
  {
   "cell_type": "code",
   "execution_count": 9,
   "metadata": {
    "collapsed": true
   },
   "outputs": [],
   "source": [
    "# for name in df_Curr.columns.values:\n",
    "#     print (name)\n",
    "# for name in df_old.columns.values:\n",
    "#     print(name)\n",
    "# df_Curr.dtypes\n",
    "\n",
    "# Con_cols = [i for i in df_Curr.columns if (df_Curr.dtypes[i] =='float64' or df_Curr.dtypes[i] =='int')]\n",
    "# Cat_cols = [i for i in df_Curr.columns if (i not in Con_cols) & ( i !='id')]\n",
    "# Con_cols\n",
    "# Cat_cols"
   ]
  },
  {
   "cell_type": "markdown",
   "metadata": {},
   "source": [
    "# Column Name Adjustment"
   ]
  },
  {
   "cell_type": "code",
   "execution_count": 10,
   "metadata": {
    "collapsed": false
   },
   "outputs": [],
   "source": [
    "listOld = []\n",
    "for column_name in df_old.columns.values:\n",
    "    Name = column_name.replace(\"_\",\"\")\n",
    "    listOld.append(Name)\n",
    "#     print (Name)"
   ]
  },
  {
   "cell_type": "code",
   "execution_count": 11,
   "metadata": {
    "collapsed": false
   },
   "outputs": [],
   "source": [
    "def CapDown (string):\n",
    "    for i in range (len(string)):\n",
    "        string = string[0: i] + string[i].lower() + string[i+1:]\n",
    "    return string"
   ]
  },
  {
   "cell_type": "code",
   "execution_count": 12,
   "metadata": {
    "collapsed": false
   },
   "outputs": [],
   "source": [
    "listCurr = []\n",
    "for column_name in df_Curr.columns.values:\n",
    "    listCurr.append(CapDown(column_name))\n",
    "#     print (CapDown(column_name))"
   ]
  },
  {
   "cell_type": "markdown",
   "metadata": {},
   "source": [
    "# Variable Compare"
   ]
  },
  {
   "cell_type": "code",
   "execution_count": 13,
   "metadata": {
    "collapsed": true
   },
   "outputs": [],
   "source": [
    "def compareCol (list1, list2):\n",
    "    same = []\n",
    "    different = []\n",
    "    for i in range (len(list1)):\n",
    "        if list1[i] in list2:\n",
    "            same.append(list1[i])\n",
    "        else:\n",
    "            different.append(list1[i])\n",
    "    return same, different"
   ]
  },
  {
   "cell_type": "code",
   "execution_count": 14,
   "metadata": {
    "collapsed": false
   },
   "outputs": [
    {
     "name": "stdout",
     "output_type": "stream",
     "text": [
      "['acceptd', 'addrzip', 'creditpulld', 'desc', 'expd', 'expdefaultrate', 'ficorangehigh', 'ficorangelow', 'fundedamount', 'id', 'ilsexpd', 'investorcount', 'isincv', 'isincvjoint', 'listd', 'loanamount', 'memberid', 'numacctsever120ppd', 'reviewstatus', 'reviewstatusd', 'servicefeerate']\n",
      "['loanamnt', 'fundedamnt', 'fundedamntinv', 'verificationstatus', 'issued', 'loanstatus', 'pymntplan', 'title', 'zipcode', 'outprncp', 'outprncpinv', 'totalpymnt', 'totalpymntinv', 'totalrecprncp', 'totalrecint', 'totalreclatefee', 'recoveries', 'collectionrecoveryfee', 'lastpymntd', 'lastpymntamnt', 'nextpymntd', 'lastcreditpulld', 'policycode', 'verificationstatusjoint', 'numacctsever120pd']\n"
     ]
    }
   ],
   "source": [
    "sameCurr, differentCurr = compareCol(listCurr, listOld)\n",
    "sameOld, differentOld = compareCol(listOld, listCurr)\n",
    "print (differentCurr)\n",
    "print (differentOld)"
   ]
  },
  {
   "cell_type": "code",
   "execution_count": 15,
   "metadata": {
    "collapsed": false
   },
   "outputs": [],
   "source": [
    "def LCS (str1, str2):\n",
    "    m = len(str1)\n",
    "    n = len(str2)\n",
    "    max = 0\n",
    "    common = list()\n",
    "    count = [[0] * (n + 1) for x in range (m + 1)]\n",
    "    for i in range (m + 1):\n",
    "        count [i][0] = 0\n",
    "    for j in range (n + 1):\n",
    "        count [0][j] = 0\n",
    "    for i in range (1, m + 1):\n",
    "        for j in range (1, n + 1):\n",
    "            if str1[i - 1] == str2[j - 1]:\n",
    "                count[i][j] = count[i - 1][j - 1] + 1\n",
    "                if max < count[i][j]:\n",
    "                    max = count[i][j]\n",
    "                    common.append(str1[i - 1])\n",
    "            else:\n",
    "                count[i][j] = 0\n",
    "    return (max)"
   ]
  },
  {
   "cell_type": "code",
   "execution_count": 16,
   "metadata": {
    "collapsed": false
   },
   "outputs": [
    {
     "name": "stdout",
     "output_type": "stream",
     "text": [
      "3\n"
     ]
    }
   ],
   "source": [
    "print (LCS ('happy', 'halloppy'))"
   ]
  },
  {
   "cell_type": "code",
   "execution_count": 17,
   "metadata": {
    "collapsed": false
   },
   "outputs": [
    {
     "name": "stdout",
     "output_type": "stream",
     "text": [
      "11 creditpulld lastcreditpulld\n",
      "8 fundedamount fundedamnt\n",
      "8 fundedamount fundedamntinv\n",
      "5 isincvjoint verificationstatusjoint\n",
      "6 loanamount loanamnt\n",
      "4 loanamount loanstatus\n",
      "16 numacctsever120ppd numacctsever120pd\n",
      "6 reviewstatus verificationstatus\n",
      "6 reviewstatus loanstatus\n",
      "6 reviewstatus verificationstatusjoint\n",
      "6 reviewstatusd verificationstatus\n",
      "6 reviewstatusd loanstatus\n",
      "6 reviewstatusd verificationstatusjoint\n",
      "4 servicefeerate totalreclatefee\n"
     ]
    }
   ],
   "source": [
    "for i in range (len(differentCurr)):\n",
    "    for j in range (len(differentOld)):\n",
    "        if LCS (differentCurr[i], differentOld[j]) > 3 : \n",
    "            print (LCS (differentCurr[i], differentOld[j]), differentCurr[i], differentOld[j])"
   ]
  },
  {
   "cell_type": "markdown",
   "metadata": {},
   "source": [
    "# Adjust the Columns"
   ]
  },
  {
   "cell_type": "code",
   "execution_count": 18,
   "metadata": {
    "collapsed": true
   },
   "outputs": [],
   "source": [
    "# rename according to the name comparison\n",
    "df_Curr.columns = listCurr\n",
    "df_old.columns = listOld\n",
    "# df_Curr.columns, df_old.columns\n",
    "\n",
    "df_Curr = df_Curr.rename(columns={'creditpulld': 'lastcreditpulld'})\n",
    "df_Curr = df_Curr.rename(columns={'fundedamount': 'fundedamnt'})\n",
    "df_Curr = df_Curr.rename(columns={'loanamount': 'loanamnt'})\n",
    "df_Curr = df_Curr.rename(columns={'numacctsever120ppd': 'numacctsever120pd'})"
   ]
  },
  {
   "cell_type": "code",
   "execution_count": 19,
   "metadata": {
    "collapsed": false
   },
   "outputs": [
    {
     "name": "stdout",
     "output_type": "stream",
     "text": [
      "['acceptd', 'addrzip', 'desc', 'expd', 'expdefaultrate', 'ficorangehigh', 'ficorangelow', 'id', 'ilsexpd', 'investorcount', 'isincv', 'isincvjoint', 'listd', 'memberid', 'reviewstatus', 'reviewstatusd', 'servicefeerate']\n",
      "['fundedamntinv', 'verificationstatus', 'issued', 'loanstatus', 'pymntplan', 'title', 'zipcode', 'outprncp', 'outprncpinv', 'totalpymnt', 'totalpymntinv', 'totalrecprncp', 'totalrecint', 'totalreclatefee', 'recoveries', 'collectionrecoveryfee', 'lastpymntd', 'lastpymntamnt', 'nextpymntd', 'policycode', 'verificationstatusjoint']\n"
     ]
    }
   ],
   "source": [
    "# another round of calculating the same and difference list\n",
    "sameCurr2, differentCurr2 = compareCol(df_Curr.columns, df_old.columns)\n",
    "sameOld2, differentOld2 = compareCol(df_old.columns, df_Curr.columns)\n",
    "print (differentCurr2)\n",
    "print (differentOld2)"
   ]
  },
  {
   "cell_type": "code",
   "execution_count": 20,
   "metadata": {
    "collapsed": false
   },
   "outputs": [
    {
     "data": {
      "text/plain": [
       "86"
      ]
     },
     "execution_count": 20,
     "metadata": {},
     "output_type": "execute_result"
    }
   ],
   "source": [
    "# will delete the difference in new list differentCurr2\n",
    "for i in range(len(differentCurr2)):\n",
    "    df_Curr = df_Curr.drop(differentCurr2[i], 1)\n",
    "len(df_Curr.columns)"
   ]
  },
  {
   "cell_type": "code",
   "execution_count": 21,
   "metadata": {
    "collapsed": false
   },
   "outputs": [
    {
     "data": {
      "text/plain": [
       "88"
      ]
     },
     "execution_count": 21,
     "metadata": {},
     "output_type": "execute_result"
    }
   ],
   "source": [
    "# will delete the difference in new list differentOld2:\n",
    "for i in range(len(differentOld2)):\n",
    "    if differentOld2[i] != 'loanstatus' and differentOld2[i] != 'issued':\n",
    "        df_old = df_old.drop(differentOld2[i], 1)\n",
    "len(df_old.columns)"
   ]
  },
  {
   "cell_type": "markdown",
   "metadata": {},
   "source": [
    "# Split train & test data, and aggregate into Full_data"
   ]
  },
  {
   "cell_type": "code",
   "execution_count": 22,
   "metadata": {
    "collapsed": false
   },
   "outputs": [
    {
     "name": "stdout",
     "output_type": "stream",
     "text": [
      "Fully Paid            114533\n",
      "Current                83597\n",
      "Charged Off            32263\n",
      "Late (31-120 days)      2737\n",
      "In Grace Period         1845\n",
      "Late (16-30 days)        647\n",
      "Default                    7\n",
      "Name: loanstatus, dtype: int64\n",
      "1    114533\n",
      "0     32263\n",
      "Name: loanstatus, dtype: int64\n"
     ]
    }
   ],
   "source": [
    "print(df_old.loanstatus.value_counts())\n",
    "df_old = df_old.query(\"loanstatus == 'Fully Paid' or loanstatus == 'Charged Off'\")\n",
    "df_old['loanstatus'] = df_old.loanstatus.map({\"Charged Off\": 0, \"Fully Paid\": 1})\n",
    "# print(df_old.loanstatus)\n",
    "print(df_old.loanstatus.value_counts())"
   ]
  },
  {
   "cell_type": "code",
   "execution_count": 23,
   "metadata": {
    "collapsed": false
   },
   "outputs": [
    {
     "name": "stderr",
     "output_type": "stream",
     "text": [
      "//anaconda/lib/python3.5/site-packages/ipykernel/__main__.py:4: SettingWithCopyWarning: \n",
      "A value is trying to be set on a copy of a slice from a DataFrame.\n",
      "Try using .loc[row_indexer,col_indexer] = value instead\n",
      "\n",
      "See the caveats in the documentation: http://pandas.pydata.org/pandas-docs/stable/indexing.html#indexing-view-versus-copy\n",
      "//anaconda/lib/python3.5/site-packages/ipykernel/__main__.py:5: SettingWithCopyWarning: \n",
      "A value is trying to be set on a copy of a slice from a DataFrame.\n",
      "Try using .loc[row_indexer,col_indexer] = value instead\n",
      "\n",
      "See the caveats in the documentation: http://pandas.pydata.org/pandas-docs/stable/indexing.html#indexing-view-versus-copy\n"
     ]
    }
   ],
   "source": [
    "df_old['issued'] = df_old.issued.apply(lambda x: x.split(\"-\")[0])\n",
    "df_test = df_old.query(\"issued =='Dec' or issued == 'Nov' or issued == 'Oct'\")\n",
    "df_train = df_old.query(\"issued !='Dec' and issued != 'Nov' and issued != 'Oct'\")\n",
    "df_test['flag'] = 0\n",
    "df_train['flag'] = 1\n",
    "df_Curr['flag'] = 2\n",
    "Full_data = pd.concat((df_test, df_train, df_Curr), axis=0, ignore_index=True)"
   ]
  },
  {
   "cell_type": "code",
   "execution_count": 24,
   "metadata": {
    "collapsed": false
   },
   "outputs": [
    {
     "name": "stdout",
     "output_type": "stream",
     "text": [
      "89 146880\n",
      "87 88 103 107 84 146796\n"
     ]
    }
   ],
   "source": [
    "print(len(Full_data.columns), len(Full_data))\n",
    "print(len(df_Curr.columns), len(df_old.columns), len(listCurr), len(listOld), len(df_Curr), len(df_old))"
   ]
  },
  {
   "cell_type": "markdown",
   "metadata": {},
   "source": [
    "# Grouping variables"
   ]
  },
  {
   "cell_type": "code",
   "execution_count": 25,
   "metadata": {
    "collapsed": false
   },
   "outputs": [
    {
     "data": {
      "text/plain": [
       "1.0    114533\n",
       "0.0     32263\n",
       "Name: loanstatus, dtype: int64"
      ]
     },
     "execution_count": 25,
     "metadata": {},
     "output_type": "execute_result"
    }
   ],
   "source": [
    "# 看目标值的分布\n",
    "Full_data.loanstatus.value_counts()"
   ]
  },
  {
   "cell_type": "code",
   "execution_count": 26,
   "metadata": {
    "collapsed": false
   },
   "outputs": [
    {
     "name": "stdout",
     "output_type": "stream",
     "text": [
      "accnowdelinq :   int64\n",
      "accopenpast24mths :   int64\n",
      "addrstate :   object\n",
      "allutil :   float64\n",
      "annualinc :   float64\n",
      "annualincjoint :   float64\n",
      "applicationtype :   object\n",
      "avgcurbal :   float64\n",
      "bcopentobuy :   float64\n",
      "bcutil :   float64\n",
      "chargeoffwithin12mths :   int64\n",
      "collections12mthsexmed :   int64\n",
      "delinq2yrs :   int64\n",
      "delinqamnt :   int64\n",
      "dti :   float64\n",
      "dtijoint :   float64\n",
      "earliestcrline :   object\n",
      "emplength :   object\n",
      "emptitle :   object\n",
      "flag :   int64\n",
      "fundedamnt :   int64\n",
      "grade :   object\n",
      "homeownership :   object\n",
      "ilutil :   float64\n",
      "initialliststatus :   object\n",
      "inqfi :   float64\n",
      "inqlast12m :   float64\n",
      "inqlast6mths :   int64\n",
      "installment :   float64\n",
      "intrate :   object\n",
      "issued :   object\n",
      "lastcreditpulld :   object\n",
      "loanamnt :   int64\n",
      "loanstatus :   float64\n",
      "maxbalbc :   float64\n",
      "mortacc :   int64\n",
      "mosinoldilacct :   float64\n",
      "mosinoldrevtlop :   int64\n",
      "mosinrcntrevtlop :   int64\n",
      "mosinrcnttl :   int64\n",
      "mthssincelastdelinq :   float64\n",
      "mthssincelastmajorderog :   float64\n",
      "mthssincelastrecord :   float64\n",
      "mthssincercntil :   float64\n",
      "mthssincerecentbc :   float64\n",
      "mthssincerecentbcdlq :   float64\n",
      "mthssincerecentinq :   float64\n",
      "mthssincerecentrevoldelinq :   float64\n",
      "numacctsever120pd :   int64\n",
      "numactvbctl :   int64\n",
      "numactvrevtl :   int64\n",
      "numbcsats :   int64\n",
      "numbctl :   int64\n",
      "numiltl :   int64\n",
      "numoprevtl :   int64\n",
      "numrevaccts :   int64\n",
      "numrevtlbalgt0 :   int64\n",
      "numsats :   int64\n",
      "numtl120dpd2m :   float64\n",
      "numtl30dpd :   int64\n",
      "numtl90gdpd24m :   int64\n",
      "numtloppast12m :   int64\n",
      "openacc :   int64\n",
      "openacc6m :   float64\n",
      "openil12m :   float64\n",
      "openil24m :   float64\n",
      "openil6m :   float64\n",
      "openrv12m :   float64\n",
      "openrv24m :   float64\n",
      "pcttlnvrdlq :   float64\n",
      "percentbcgt75 :   float64\n",
      "pubrec :   int64\n",
      "pubrecbankruptcies :   int64\n",
      "purpose :   object\n",
      "revolbal :   int64\n",
      "revolutil :   object\n",
      "subgrade :   object\n",
      "taxliens :   int64\n",
      "term :   object\n",
      "totalacc :   int64\n",
      "totalbalexmort :   int64\n",
      "totalbalil :   float64\n",
      "totalbclimit :   int64\n",
      "totalcutl :   float64\n",
      "totalilhighcreditlimit :   int64\n",
      "totalrevhilim :   int64\n",
      "totcollamt :   int64\n",
      "totcurbal :   int64\n",
      "tothicredlim :   int64\n"
     ]
    }
   ],
   "source": [
    "for column_name in Full_data.columns.values:\n",
    "    print (column_name, \":  \", Full_data[column_name].dtype)"
   ]
  },
  {
   "cell_type": "code",
   "execution_count": 27,
   "metadata": {
    "collapsed": false
   },
   "outputs": [
    {
     "data": {
      "text/plain": [
       "accnowdelinq                   0\n",
       "accopenpast24mths              0\n",
       "addrstate                      0\n",
       "allutil                   146796\n",
       "annualinc                      0\n",
       "annualincjoint            146873\n",
       "applicationtype                0\n",
       "avgcurbal                      6\n",
       "bcopentobuy                 1496\n",
       "bcutil                      1607\n",
       "chargeoffwithin12mths          0\n",
       "collections12mthsexmed         0\n",
       "delinq2yrs                     0\n",
       "delinqamnt                     0\n",
       "dti                            0\n",
       "dtijoint                  146873\n",
       "earliestcrline                 0\n",
       "emplength                     10\n",
       "emptitle                    8235\n",
       "flag                           0\n",
       "fundedamnt                     0\n",
       "grade                          0\n",
       "homeownership                  0\n",
       "ilutil                    146811\n",
       "initialliststatus              0\n",
       "inqfi                     146796\n",
       "inqlast12m                146796\n",
       "inqlast6mths                   0\n",
       "installment                    0\n",
       "intrate                        0\n",
       "                           ...  \n",
       "numtl30dpd                     0\n",
       "numtl90gdpd24m                 0\n",
       "numtloppast12m                 0\n",
       "openacc                        0\n",
       "openacc6m                 146796\n",
       "openil12m                 146796\n",
       "openil24m                 146796\n",
       "openil6m                  146796\n",
       "openrv12m                 146796\n",
       "openrv24m                 146796\n",
       "pcttlnvrdlq                    0\n",
       "percentbcgt75               1574\n",
       "pubrec                         0\n",
       "pubrecbankruptcies             0\n",
       "purpose                        0\n",
       "revolbal                       0\n",
       "revolutil                     80\n",
       "subgrade                       0\n",
       "taxliens                       0\n",
       "term                           0\n",
       "totalacc                       0\n",
       "totalbalexmort                 0\n",
       "totalbalil                146796\n",
       "totalbclimit                   0\n",
       "totalcutl                 146796\n",
       "totalilhighcreditlimit         0\n",
       "totalrevhilim                  0\n",
       "totcollamt                     0\n",
       "totcurbal                      0\n",
       "tothicredlim                   0\n",
       "dtype: int64"
      ]
     },
     "execution_count": 27,
     "metadata": {},
     "output_type": "execute_result"
    }
   ],
   "source": [
    "Full_data.isnull().sum() "
   ]
  },
  {
   "cell_type": "code",
   "execution_count": 28,
   "metadata": {
    "collapsed": true
   },
   "outputs": [],
   "source": [
    "# drop null columns\n",
    "Full_data = Full_data.drop('openacc6m', 1)\n",
    "Full_data = Full_data.drop('openil12m', 1)\n",
    "Full_data = Full_data.drop('openil24m', 1)\n",
    "Full_data = Full_data.drop('openil6m', 1)\n",
    "Full_data = Full_data.drop('openrv12m', 1)\n",
    "Full_data = Full_data.drop('openrv24m', 1)\n",
    "Full_data = Full_data.drop('allutil', 1)\n",
    "Full_data = Full_data.drop('inqfi', 1)\n",
    "Full_data = Full_data.drop('inqlast12m', 1)\n",
    "Full_data = Full_data.drop('totalbalil', 1)\n",
    "Full_data = Full_data.drop('totalcutl', 1)"
   ]
  },
  {
   "cell_type": "code",
   "execution_count": 29,
   "metadata": {
    "collapsed": true
   },
   "outputs": [],
   "source": [
    "# check the Full_data again\n",
    "# np.sum(Full_data.isnull())"
   ]
  },
  {
   "cell_type": "code",
   "execution_count": 30,
   "metadata": {
    "collapsed": false
   },
   "outputs": [
    {
     "name": "stdout",
     "output_type": "stream",
     "text": [
      "['accnowdelinq', 'accopenpast24mths', 'annualinc', 'annualincjoint', 'avgcurbal', 'bcopentobuy', 'bcutil', 'chargeoffwithin12mths', 'collections12mthsexmed', 'delinq2yrs', 'delinqamnt', 'dti', 'dtijoint', 'flag', 'fundedamnt', 'ilutil', 'inqlast6mths', 'installment', 'loanamnt', 'loanstatus', 'maxbalbc', 'mortacc', 'mosinoldilacct', 'mosinoldrevtlop', 'mosinrcntrevtlop', 'mosinrcnttl', 'mthssincelastdelinq', 'mthssincelastmajorderog', 'mthssincelastrecord', 'mthssincercntil', 'mthssincerecentbc', 'mthssincerecentbcdlq', 'mthssincerecentinq', 'mthssincerecentrevoldelinq', 'numacctsever120pd', 'numactvbctl', 'numactvrevtl', 'numbcsats', 'numbctl', 'numiltl', 'numoprevtl', 'numrevaccts', 'numrevtlbalgt0', 'numsats', 'numtl120dpd2m', 'numtl30dpd', 'numtl90gdpd24m', 'numtloppast12m', 'openacc', 'pcttlnvrdlq', 'percentbcgt75', 'pubrec', 'pubrecbankruptcies', 'revolbal', 'taxliens', 'totalacc', 'totalbalexmort', 'totalbclimit', 'totalilhighcreditlimit', 'totalrevhilim', 'totcollamt', 'totcurbal', 'tothicredlim']\n",
      "['addrstate', 'applicationtype', 'earliestcrline', 'emplength', 'emptitle', 'grade', 'homeownership', 'initialliststatus', 'intrate', 'issued', 'lastcreditpulld', 'purpose', 'revolutil', 'subgrade', 'term']\n"
     ]
    }
   ],
   "source": [
    "# Value类别分组\n",
    "Con_cols = [i for i in Full_data.columns if (Full_data.dtypes[i] =='float64' or Full_data.dtypes[i] == 'int64')]\n",
    "Cat_cols = [i for i in Full_data.columns if (i not in Con_cols) & (i !='id')]\n",
    "len(Con_cols), len(Cat_cols)\n",
    "print(Con_cols)\n",
    "print(Cat_cols)"
   ]
  },
  {
   "cell_type": "code",
   "execution_count": 31,
   "metadata": {
    "collapsed": false
   },
   "outputs": [
    {
     "data": {
      "text/plain": [
       "1.0    114533\n",
       "0.0     32263\n",
       "Name: loanstatus, dtype: int64"
      ]
     },
     "execution_count": 31,
     "metadata": {},
     "output_type": "execute_result"
    }
   ],
   "source": [
    "Full_data.loanstatus.value_counts()"
   ]
  },
  {
   "cell_type": "code",
   "execution_count": 32,
   "metadata": {
    "collapsed": false
   },
   "outputs": [
    {
     "name": "stdout",
     "output_type": "stream",
     "text": [
      "   accopenpast24mths addrstate  annualinc  annualincjoint applicationtype  \\\n",
      "0                  7        CA    58000.0             NaN      INDIVIDUAL   \n",
      "1                  5        VA    78000.0             NaN      INDIVIDUAL   \n",
      "2                  4        MO    63800.0             NaN      INDIVIDUAL   \n",
      "3                  6        AZ    50000.0             NaN      INDIVIDUAL   \n",
      "4                  8        NJ    69000.0             NaN      INDIVIDUAL   \n",
      "5                  6        MN    89000.0             NaN      INDIVIDUAL   \n",
      "6                  4        MD    26000.0             NaN      INDIVIDUAL   \n",
      "7                  3        VA   109777.0             NaN      INDIVIDUAL   \n",
      "8                  2        NY    75000.0             NaN      INDIVIDUAL   \n",
      "9                  7        FL    60000.0             NaN      INDIVIDUAL   \n",
      "\n",
      "   avgcurbal  bcopentobuy  bcutil  chargeoffwithin12mths  \n",
      "0     9536.0       7599.0    41.5                      0  \n",
      "1    29828.0       9525.0     4.7                      0  \n",
      "2     4232.0        324.0    97.8                      0  \n",
      "3     5857.0        332.0    93.2                      0  \n",
      "4     3214.0       6494.0    69.2                      0  \n",
      "5    44136.0       1333.0    86.4                      0  \n",
      "6     1267.0      12152.0    26.8                      0  \n",
      "7    53392.0       2559.0    72.2                      0  \n",
      "8    17456.0         71.0    98.2                      0  \n",
      "9     1571.0       2604.0    52.7                      0  \n",
      "   delinq2yrs  delinqamnt    dti  dtijoint earliestcrline  emplength  \\\n",
      "0           0           0  14.92       NaN         Sep-89    8 years   \n",
      "1           0           0  12.03       NaN         Aug-94  10+ years   \n",
      "2           0           0  18.49       NaN         Aug-03    6 years   \n",
      "3           0           0  34.81       NaN         Aug-02   < 1 year   \n",
      "4           0           0  25.81       NaN         Nov-92  10+ years   \n",
      "5           0           0  13.77       NaN         Oct-01   < 1 year   \n",
      "6           0           0  14.36       NaN         May-09    2 years   \n",
      "7           1           0  11.63       NaN         Nov-03    6 years   \n",
      "8           0           0  23.63       NaN         Jan-01  10+ years   \n",
      "9           0           0  22.42       NaN         Jan-99  10+ years   \n",
      "\n",
      "                          emptitle  flag  fundedamnt  \n",
      "0   Truck Driver Delivery Personel     0       10400  \n",
      "1                       MANAGEMENT     0       15000  \n",
      "2  Programming Analysis Supervisor     0       21425  \n",
      "3             Technical Specialist     0        7650  \n",
      "4                 Admin Specialist     0        9600  \n",
      "5           Manufacturing Engineer     0        2500  \n",
      "6                    Store Manager     0        5250  \n",
      "7          Foreign Service Officer     0       16000  \n",
      "8                   Deputy sheriff     0       17000  \n",
      "9                            Sales     0       12975  \n",
      "  homeownership  ilutil initialliststatus  inqlast6mths  installment intrate  \\\n",
      "0      MORTGAGE     NaN                 w             2       321.08   6.99%   \n",
      "1          RENT     NaN                 w             0       336.64  12.39%   \n",
      "2          RENT     NaN                 w             0       516.36  15.59%   \n",
      "3          RENT     NaN                 f             1       260.20  13.66%   \n",
      "4          RENT     NaN                 f             0       326.53  13.66%   \n",
      "5      MORTGAGE     NaN                 f             1        83.03  11.99%   \n",
      "6          RENT     NaN                 f             0       172.98  11.44%   \n",
      "7           OWN     NaN                 w             0       351.40  11.44%   \n",
      "8      MORTGAGE     NaN                 f             0       578.22  13.66%   \n",
      "9          RENT     NaN                 f             0       468.17  17.86%   \n",
      "\n",
      "  issued lastcreditpulld  loanamnt  \n",
      "0    Dec          Feb-17     10400  \n",
      "1    Dec          Mar-17     15000  \n",
      "2    Dec          Mar-17     21425  \n",
      "3    Dec          Oct-16      7650  \n",
      "4    Dec          Feb-17      9600  \n",
      "5    Dec          Mar-17      2500  \n",
      "6    Dec          Apr-15      5250  \n",
      "7    Dec          Oct-16     16000  \n",
      "8    Dec          Mar-17     17000  \n",
      "9    Dec          Oct-16     12975  \n",
      "   maxbalbc  mortacc  mosinoldilacct  mosinoldrevtlop  mosinrcntrevtlop  \\\n",
      "0       NaN        1            76.0              290                 1   \n",
      "1       NaN        0           103.0              244                 1   \n",
      "2       NaN        0           135.0              136                 7   \n",
      "3       NaN        0           137.0              148                 8   \n",
      "4       NaN        0           183.0              265                23   \n",
      "5       NaN        5           158.0              148                24   \n",
      "6       NaN        0            33.0               67                12   \n",
      "7       NaN        2           121.0              133                17   \n",
      "8       NaN        2            93.0              167                21   \n",
      "9       NaN        0           191.0              122                 2   \n",
      "\n",
      "   mosinrcnttl  mthssincelastdelinq  mthssincelastmajorderog  \n",
      "0            1                 42.0                     59.0  \n",
      "1            1                  NaN                      NaN  \n",
      "2            7                 60.0                     74.0  \n",
      "3            8                  NaN                      NaN  \n",
      "4            3                  NaN                      NaN  \n",
      "5            6                 55.0                      NaN  \n",
      "6            6                  NaN                      NaN  \n",
      "7           17                 12.0                      NaN  \n",
      "8           10                 46.0                     51.0  \n",
      "9            2                 48.0                      NaN  \n",
      "   mthssincercntil  mthssincerecentbc  mthssincerecentbcdlq  \\\n",
      "0              NaN                5.0                  42.0   \n",
      "1              NaN               47.0                   NaN   \n",
      "2              NaN                7.0                  60.0   \n",
      "3              NaN               17.0                   NaN   \n",
      "4              NaN               24.0                   NaN   \n",
      "5              NaN               24.0                   NaN   \n",
      "6              NaN               16.0                   NaN   \n",
      "7              NaN               80.0                  33.0   \n",
      "8              NaN               27.0                  46.0   \n",
      "9              NaN                6.0                   NaN   \n",
      "\n",
      "   mthssincerecentinq  mthssincerecentrevoldelinq  numacctsever120pd  \n",
      "0                 1.0                        42.0                  4  \n",
      "1                 NaN                         NaN                  0  \n",
      "2                 7.0                        60.0                  1  \n",
      "3                 3.0                         NaN                  0  \n",
      "4                17.0                         NaN                  0  \n",
      "5                 2.0                         NaN                  0  \n",
      "6                 NaN                         NaN                  0  \n",
      "7                17.0                        33.0                  0  \n",
      "8                 NaN                        46.0                  2  \n",
      "9                 1.0                         NaN                  0  \n",
      "   numactvrevtl  numbcsats  numbctl  numiltl  numoprevtl  numrevaccts  \\\n",
      "0             9          7       18        2          14           32   \n",
      "1             4          1        2        8           5            9   \n",
      "2             4          3       12       16           5           18   \n",
      "3             4          1        4       12           4            8   \n",
      "4             7          5       16       17           8           26   \n",
      "5             4          3        6       17           4           10   \n",
      "6             2          3        4        3           6            9   \n",
      "7             3          3        6        2           5           10   \n",
      "8             3          1        7        4           4           25   \n",
      "9             8          3        6        6           9           13   \n",
      "\n",
      "   numrevtlbalgt0  numsats  numtl120dpd2m  \n",
      "0               9       17            0.0  \n",
      "1               4        6            0.0  \n",
      "2               4       10            0.0  \n",
      "3               4       11            0.0  \n",
      "4               7       12            0.0  \n",
      "5               4        9            0.0  \n",
      "6               2        8            0.0  \n",
      "7               3        7            0.0  \n",
      "8               3        7            0.0  \n",
      "9               8       11            0.0  \n",
      "   numtl90gdpd24m  numtloppast12m  openacc  pcttlnvrdlq  percentbcgt75  \\\n",
      "0               0               4       17         83.3           14.3   \n",
      "1               0               4        6        100.0            0.0   \n",
      "2               0               2       10         91.4          100.0   \n",
      "3               0               2       11        100.0          100.0   \n",
      "4               0               3       12        100.0           60.0   \n",
      "5               0               1        9         96.8           66.7   \n",
      "6               0               2        8        100.0            0.0   \n",
      "7               0               0        7         71.4           66.7   \n",
      "8               0               1        7         87.1          100.0   \n",
      "9               0               4       11         89.5            0.0   \n",
      "\n",
      "   pubrec  pubrecbankruptcies             purpose  revolbal revolutil  \n",
      "0       0                   0         credit_card      6133    31.60%  \n",
      "1       0                   0  debt_consolidation    138008       29%  \n",
      "2       0                   0         credit_card     16374    76.20%  \n",
      "3       0                   0  debt_consolidation     16822    91.90%  \n",
      "4       0                   0  debt_consolidation     16388    59.40%  \n",
      "5       0                   0    home_improvement     22908    94.30%  \n",
      "6       0                   0  debt_consolidation      4448    20.20%  \n",
      "7       0                   0  debt_consolidation      7253    60.40%  \n",
      "8       0                   0  debt_consolidation      5063    46.40%  \n",
      "9       0                   0               house      5200    33.10%  \n",
      "   taxliens        term  totalacc  totalbalexmort  totalbclimit  \\\n",
      "0         0   36 months        36           15030         13000   \n",
      "1         0   60 months        17          149140         10000   \n",
      "2         0   60 months        35           42315         15000   \n",
      "3         0   36 months        20           64426          4900   \n",
      "4         0   36 months        44           38566         21100   \n",
      "5         0   36 months        32           61606          9800   \n",
      "6         0   36 months        13           10133         16600   \n",
      "7         0   60 months        14           34475          9200   \n",
      "8         0   36 months        31           36205          4000   \n",
      "9         0   36 months        19           17281          5500   \n",
      "\n",
      "   totalilhighcreditlimit  totalrevhilim  totcollamt  totcurbal  tothicredlim  \n",
      "0                   11325          19400           0     162110        179407  \n",
      "1                   12000         184500           0     149140        196500  \n",
      "2                   35573          21500           0      42315         57073  \n",
      "3                   64031          18300           0      64426         82331  \n",
      "4                   24890          27600           0      38566         52490  \n",
      "5                   47946          24300           0     397223        415290  \n",
      "6                    6000          22000           0      10133         29971  \n",
      "7                   33000          12000           0     373743        428032  \n",
      "8                   41370          10900           0     122193        147270  \n",
      "9                   27243          15700         900      17281         42943  \n",
      "Empty DataFrame\n",
      "Columns: []\n",
      "Index: [0, 1, 2, 3, 4, 5, 6, 7, 8, 9]\n"
     ]
    }
   ],
   "source": [
    "print(Full_data.iloc[0:10,1:10])\n",
    "print(Full_data.iloc[0:10,11:20])\n",
    "print(Full_data.iloc[0:10,21:30])\n",
    "print(Full_data.iloc[0:10,31:39])\n",
    "print(Full_data.iloc[0:10,40:46])\n",
    "print(Full_data.iloc[0:10,47:56])\n",
    "print(Full_data.iloc[0:10,57:67])\n",
    "print(Full_data.iloc[0:10,68:80])\n",
    "print(Full_data.iloc[0:10,80:90])"
   ]
  },
  {
   "cell_type": "code",
   "execution_count": 33,
   "metadata": {
    "collapsed": false
   },
   "outputs": [
    {
     "name": "stdout",
     "output_type": "stream",
     "text": [
      "78 146880\n",
      "87 88 103 107 84 146796\n"
     ]
    }
   ],
   "source": [
    "print(len(Full_data.columns), len(Full_data))\n",
    "print(len(df_Curr.columns), len(df_old.columns), len(listCurr), len(listOld), len(df_Curr), len(df_old))"
   ]
  },
  {
   "cell_type": "markdown",
   "metadata": {},
   "source": [
    "# Feature Engineering"
   ]
  },
  {
   "cell_type": "code",
   "execution_count": 34,
   "metadata": {
    "collapsed": false
   },
   "outputs": [],
   "source": [
    "# grade\n",
    "grade_dic = {\"A\": 1, \"B\": 2, \"C\": 3, \"D\": 4, \"E\":5, \"F\":6, \"G\":7} \n",
    "Full_data.grade = Full_data.grade.map(grade_dic)"
   ]
  },
  {
   "cell_type": "code",
   "execution_count": 35,
   "metadata": {
    "collapsed": false
   },
   "outputs": [
    {
     "data": {
      "text/plain": [
       "0         1.3\n",
       "1         3.1\n",
       "2         4.1\n",
       "3         3.3\n",
       "4         3.3\n",
       "5         2.5\n",
       "6         2.4\n",
       "7         2.4\n",
       "8         3.3\n",
       "9         4.5\n",
       "10        2.5\n",
       "11        3.4\n",
       "12        3.5\n",
       "13        2.3\n",
       "14        4.2\n",
       "15        3.5\n",
       "16        2.3\n",
       "17        3.2\n",
       "18        3.1\n",
       "19        3.4\n",
       "20        4.2\n",
       "21        1.5\n",
       "22        1.3\n",
       "23        3.2\n",
       "24        3.5\n",
       "25        4.3\n",
       "26        3.5\n",
       "27        2.4\n",
       "28        2.2\n",
       "29        4.5\n",
       "         ... \n",
       "146850    2.3\n",
       "146851    1.5\n",
       "146852    3.4\n",
       "146853    3.5\n",
       "146854    4.3\n",
       "146855    3.3\n",
       "146856    2.3\n",
       "146857    6.1\n",
       "146858    6.1\n",
       "146859    3.4\n",
       "146860    2.1\n",
       "146861    3.2\n",
       "146862    3.5\n",
       "146863    2.5\n",
       "146864    1.2\n",
       "146865    3.2\n",
       "146866    4.5\n",
       "146867    2.3\n",
       "146868    3.5\n",
       "146869    2.4\n",
       "146870    4.2\n",
       "146871    2.2\n",
       "146872    2.4\n",
       "146873    2.3\n",
       "146874    5.5\n",
       "146875    4.5\n",
       "146876    3.1\n",
       "146877    2.2\n",
       "146878    5.5\n",
       "146879    6.5\n",
       "Name: subgrade, dtype: float64"
      ]
     },
     "execution_count": 35,
     "metadata": {},
     "output_type": "execute_result"
    }
   ],
   "source": [
    "Full_data.subgrade = Full_data.subgrade.apply(lambda x: (grade_dic[x[0]]) + int(x[1])/10)\n",
    "Full_data.subgrade"
   ]
  },
  {
   "cell_type": "code",
   "execution_count": 36,
   "metadata": {
    "collapsed": false
   },
   "outputs": [],
   "source": [
    "# addrstate\n",
    "addrstate_freq = Full_data.groupby(\"addrstate\").size().reset_index()\n",
    "addrstate_freq.columns = [\"addrstate\", \"addrstate_freq\"]\n",
    "Full_data = pd.merge(Full_data, addrstate_freq, how = \"left\", on = \"addrstate\")"
   ]
  },
  {
   "cell_type": "code",
   "execution_count": 37,
   "metadata": {
    "collapsed": false
   },
   "outputs": [
    {
     "data": {
      "text/html": [
       "<div>\n",
       "<table border=\"1\" class=\"dataframe\">\n",
       "  <thead>\n",
       "    <tr style=\"text-align: right;\">\n",
       "      <th></th>\n",
       "      <th>accnowdelinq</th>\n",
       "      <th>accopenpast24mths</th>\n",
       "      <th>annualinc</th>\n",
       "      <th>annualincjoint</th>\n",
       "      <th>applicationtype</th>\n",
       "      <th>avgcurbal</th>\n",
       "      <th>bcopentobuy</th>\n",
       "      <th>bcutil</th>\n",
       "      <th>chargeoffwithin12mths</th>\n",
       "      <th>collections12mthsexmed</th>\n",
       "      <th>...</th>\n",
       "      <th>term</th>\n",
       "      <th>totalacc</th>\n",
       "      <th>totalbalexmort</th>\n",
       "      <th>totalbclimit</th>\n",
       "      <th>totalilhighcreditlimit</th>\n",
       "      <th>totalrevhilim</th>\n",
       "      <th>totcollamt</th>\n",
       "      <th>totcurbal</th>\n",
       "      <th>tothicredlim</th>\n",
       "      <th>addrstate_freq</th>\n",
       "    </tr>\n",
       "  </thead>\n",
       "  <tbody>\n",
       "    <tr>\n",
       "      <th>0</th>\n",
       "      <td>0</td>\n",
       "      <td>7</td>\n",
       "      <td>58000.0</td>\n",
       "      <td>NaN</td>\n",
       "      <td>INDIVIDUAL</td>\n",
       "      <td>9536.0</td>\n",
       "      <td>7599.0</td>\n",
       "      <td>41.5</td>\n",
       "      <td>0</td>\n",
       "      <td>0</td>\n",
       "      <td>...</td>\n",
       "      <td>36 months</td>\n",
       "      <td>36</td>\n",
       "      <td>15030</td>\n",
       "      <td>13000</td>\n",
       "      <td>11325</td>\n",
       "      <td>19400</td>\n",
       "      <td>0</td>\n",
       "      <td>162110</td>\n",
       "      <td>179407</td>\n",
       "      <td>21979</td>\n",
       "    </tr>\n",
       "    <tr>\n",
       "      <th>1</th>\n",
       "      <td>0</td>\n",
       "      <td>5</td>\n",
       "      <td>78000.0</td>\n",
       "      <td>NaN</td>\n",
       "      <td>INDIVIDUAL</td>\n",
       "      <td>29828.0</td>\n",
       "      <td>9525.0</td>\n",
       "      <td>4.7</td>\n",
       "      <td>0</td>\n",
       "      <td>0</td>\n",
       "      <td>...</td>\n",
       "      <td>60 months</td>\n",
       "      <td>17</td>\n",
       "      <td>149140</td>\n",
       "      <td>10000</td>\n",
       "      <td>12000</td>\n",
       "      <td>184500</td>\n",
       "      <td>0</td>\n",
       "      <td>149140</td>\n",
       "      <td>196500</td>\n",
       "      <td>4361</td>\n",
       "    </tr>\n",
       "    <tr>\n",
       "      <th>2</th>\n",
       "      <td>0</td>\n",
       "      <td>4</td>\n",
       "      <td>63800.0</td>\n",
       "      <td>NaN</td>\n",
       "      <td>INDIVIDUAL</td>\n",
       "      <td>4232.0</td>\n",
       "      <td>324.0</td>\n",
       "      <td>97.8</td>\n",
       "      <td>0</td>\n",
       "      <td>0</td>\n",
       "      <td>...</td>\n",
       "      <td>60 months</td>\n",
       "      <td>35</td>\n",
       "      <td>42315</td>\n",
       "      <td>15000</td>\n",
       "      <td>35573</td>\n",
       "      <td>21500</td>\n",
       "      <td>0</td>\n",
       "      <td>42315</td>\n",
       "      <td>57073</td>\n",
       "      <td>2340</td>\n",
       "    </tr>\n",
       "    <tr>\n",
       "      <th>3</th>\n",
       "      <td>0</td>\n",
       "      <td>6</td>\n",
       "      <td>50000.0</td>\n",
       "      <td>NaN</td>\n",
       "      <td>INDIVIDUAL</td>\n",
       "      <td>5857.0</td>\n",
       "      <td>332.0</td>\n",
       "      <td>93.2</td>\n",
       "      <td>0</td>\n",
       "      <td>0</td>\n",
       "      <td>...</td>\n",
       "      <td>36 months</td>\n",
       "      <td>20</td>\n",
       "      <td>64426</td>\n",
       "      <td>4900</td>\n",
       "      <td>64031</td>\n",
       "      <td>18300</td>\n",
       "      <td>0</td>\n",
       "      <td>64426</td>\n",
       "      <td>82331</td>\n",
       "      <td>3635</td>\n",
       "    </tr>\n",
       "    <tr>\n",
       "      <th>4</th>\n",
       "      <td>0</td>\n",
       "      <td>8</td>\n",
       "      <td>69000.0</td>\n",
       "      <td>NaN</td>\n",
       "      <td>INDIVIDUAL</td>\n",
       "      <td>3214.0</td>\n",
       "      <td>6494.0</td>\n",
       "      <td>69.2</td>\n",
       "      <td>0</td>\n",
       "      <td>0</td>\n",
       "      <td>...</td>\n",
       "      <td>36 months</td>\n",
       "      <td>44</td>\n",
       "      <td>38566</td>\n",
       "      <td>21100</td>\n",
       "      <td>24890</td>\n",
       "      <td>27600</td>\n",
       "      <td>0</td>\n",
       "      <td>38566</td>\n",
       "      <td>52490</td>\n",
       "      <td>5280</td>\n",
       "    </tr>\n",
       "    <tr>\n",
       "      <th>5</th>\n",
       "      <td>0</td>\n",
       "      <td>6</td>\n",
       "      <td>89000.0</td>\n",
       "      <td>NaN</td>\n",
       "      <td>INDIVIDUAL</td>\n",
       "      <td>44136.0</td>\n",
       "      <td>1333.0</td>\n",
       "      <td>86.4</td>\n",
       "      <td>0</td>\n",
       "      <td>0</td>\n",
       "      <td>...</td>\n",
       "      <td>36 months</td>\n",
       "      <td>32</td>\n",
       "      <td>61606</td>\n",
       "      <td>9800</td>\n",
       "      <td>47946</td>\n",
       "      <td>24300</td>\n",
       "      <td>0</td>\n",
       "      <td>397223</td>\n",
       "      <td>415290</td>\n",
       "      <td>2750</td>\n",
       "    </tr>\n",
       "    <tr>\n",
       "      <th>6</th>\n",
       "      <td>0</td>\n",
       "      <td>4</td>\n",
       "      <td>26000.0</td>\n",
       "      <td>NaN</td>\n",
       "      <td>INDIVIDUAL</td>\n",
       "      <td>1267.0</td>\n",
       "      <td>12152.0</td>\n",
       "      <td>26.8</td>\n",
       "      <td>0</td>\n",
       "      <td>0</td>\n",
       "      <td>...</td>\n",
       "      <td>36 months</td>\n",
       "      <td>13</td>\n",
       "      <td>10133</td>\n",
       "      <td>16600</td>\n",
       "      <td>6000</td>\n",
       "      <td>22000</td>\n",
       "      <td>0</td>\n",
       "      <td>10133</td>\n",
       "      <td>29971</td>\n",
       "      <td>3402</td>\n",
       "    </tr>\n",
       "    <tr>\n",
       "      <th>7</th>\n",
       "      <td>0</td>\n",
       "      <td>3</td>\n",
       "      <td>109777.0</td>\n",
       "      <td>NaN</td>\n",
       "      <td>INDIVIDUAL</td>\n",
       "      <td>53392.0</td>\n",
       "      <td>2559.0</td>\n",
       "      <td>72.2</td>\n",
       "      <td>0</td>\n",
       "      <td>0</td>\n",
       "      <td>...</td>\n",
       "      <td>60 months</td>\n",
       "      <td>14</td>\n",
       "      <td>34475</td>\n",
       "      <td>9200</td>\n",
       "      <td>33000</td>\n",
       "      <td>12000</td>\n",
       "      <td>0</td>\n",
       "      <td>373743</td>\n",
       "      <td>428032</td>\n",
       "      <td>4361</td>\n",
       "    </tr>\n",
       "    <tr>\n",
       "      <th>8</th>\n",
       "      <td>0</td>\n",
       "      <td>2</td>\n",
       "      <td>75000.0</td>\n",
       "      <td>NaN</td>\n",
       "      <td>INDIVIDUAL</td>\n",
       "      <td>17456.0</td>\n",
       "      <td>71.0</td>\n",
       "      <td>98.2</td>\n",
       "      <td>0</td>\n",
       "      <td>0</td>\n",
       "      <td>...</td>\n",
       "      <td>36 months</td>\n",
       "      <td>31</td>\n",
       "      <td>36205</td>\n",
       "      <td>4000</td>\n",
       "      <td>41370</td>\n",
       "      <td>10900</td>\n",
       "      <td>0</td>\n",
       "      <td>122193</td>\n",
       "      <td>147270</td>\n",
       "      <td>11922</td>\n",
       "    </tr>\n",
       "    <tr>\n",
       "      <th>9</th>\n",
       "      <td>0</td>\n",
       "      <td>7</td>\n",
       "      <td>60000.0</td>\n",
       "      <td>NaN</td>\n",
       "      <td>INDIVIDUAL</td>\n",
       "      <td>1571.0</td>\n",
       "      <td>2604.0</td>\n",
       "      <td>52.7</td>\n",
       "      <td>0</td>\n",
       "      <td>0</td>\n",
       "      <td>...</td>\n",
       "      <td>36 months</td>\n",
       "      <td>19</td>\n",
       "      <td>17281</td>\n",
       "      <td>5500</td>\n",
       "      <td>27243</td>\n",
       "      <td>15700</td>\n",
       "      <td>900</td>\n",
       "      <td>17281</td>\n",
       "      <td>42943</td>\n",
       "      <td>9867</td>\n",
       "    </tr>\n",
       "    <tr>\n",
       "      <th>10</th>\n",
       "      <td>0</td>\n",
       "      <td>0</td>\n",
       "      <td>90000.0</td>\n",
       "      <td>NaN</td>\n",
       "      <td>INDIVIDUAL</td>\n",
       "      <td>4745.0</td>\n",
       "      <td>324.0</td>\n",
       "      <td>98.5</td>\n",
       "      <td>0</td>\n",
       "      <td>0</td>\n",
       "      <td>...</td>\n",
       "      <td>36 months</td>\n",
       "      <td>10</td>\n",
       "      <td>23723</td>\n",
       "      <td>21200</td>\n",
       "      <td>0</td>\n",
       "      <td>24200</td>\n",
       "      <td>0</td>\n",
       "      <td>23723</td>\n",
       "      <td>24200</td>\n",
       "      <td>3909</td>\n",
       "    </tr>\n",
       "    <tr>\n",
       "      <th>11</th>\n",
       "      <td>0</td>\n",
       "      <td>6</td>\n",
       "      <td>72000.0</td>\n",
       "      <td>NaN</td>\n",
       "      <td>INDIVIDUAL</td>\n",
       "      <td>39356.0</td>\n",
       "      <td>3977.0</td>\n",
       "      <td>89.0</td>\n",
       "      <td>0</td>\n",
       "      <td>0</td>\n",
       "      <td>...</td>\n",
       "      <td>36 months</td>\n",
       "      <td>23</td>\n",
       "      <td>79490</td>\n",
       "      <td>36000</td>\n",
       "      <td>78126</td>\n",
       "      <td>39400</td>\n",
       "      <td>0</td>\n",
       "      <td>393558</td>\n",
       "      <td>443889</td>\n",
       "      <td>3292</td>\n",
       "    </tr>\n",
       "    <tr>\n",
       "      <th>12</th>\n",
       "      <td>0</td>\n",
       "      <td>6</td>\n",
       "      <td>32200.0</td>\n",
       "      <td>NaN</td>\n",
       "      <td>INDIVIDUAL</td>\n",
       "      <td>2054.0</td>\n",
       "      <td>3636.0</td>\n",
       "      <td>72.2</td>\n",
       "      <td>0</td>\n",
       "      <td>0</td>\n",
       "      <td>...</td>\n",
       "      <td>36 months</td>\n",
       "      <td>21</td>\n",
       "      <td>20539</td>\n",
       "      <td>13100</td>\n",
       "      <td>12000</td>\n",
       "      <td>15300</td>\n",
       "      <td>0</td>\n",
       "      <td>20539</td>\n",
       "      <td>27300</td>\n",
       "      <td>11922</td>\n",
       "    </tr>\n",
       "    <tr>\n",
       "      <th>13</th>\n",
       "      <td>0</td>\n",
       "      <td>2</td>\n",
       "      <td>60000.0</td>\n",
       "      <td>NaN</td>\n",
       "      <td>INDIVIDUAL</td>\n",
       "      <td>3258.0</td>\n",
       "      <td>552.0</td>\n",
       "      <td>85.8</td>\n",
       "      <td>0</td>\n",
       "      <td>0</td>\n",
       "      <td>...</td>\n",
       "      <td>36 months</td>\n",
       "      <td>18</td>\n",
       "      <td>22809</td>\n",
       "      <td>3900</td>\n",
       "      <td>18854</td>\n",
       "      <td>11600</td>\n",
       "      <td>0</td>\n",
       "      <td>22809</td>\n",
       "      <td>30454</td>\n",
       "      <td>21979</td>\n",
       "    </tr>\n",
       "    <tr>\n",
       "      <th>14</th>\n",
       "      <td>0</td>\n",
       "      <td>6</td>\n",
       "      <td>37000.0</td>\n",
       "      <td>NaN</td>\n",
       "      <td>INDIVIDUAL</td>\n",
       "      <td>2149.0</td>\n",
       "      <td>390.0</td>\n",
       "      <td>90.2</td>\n",
       "      <td>0</td>\n",
       "      <td>0</td>\n",
       "      <td>...</td>\n",
       "      <td>36 months</td>\n",
       "      <td>22</td>\n",
       "      <td>19342</td>\n",
       "      <td>4000</td>\n",
       "      <td>20637</td>\n",
       "      <td>22500</td>\n",
       "      <td>0</td>\n",
       "      <td>19342</td>\n",
       "      <td>43137</td>\n",
       "      <td>3635</td>\n",
       "    </tr>\n",
       "    <tr>\n",
       "      <th>15</th>\n",
       "      <td>0</td>\n",
       "      <td>6</td>\n",
       "      <td>20000.0</td>\n",
       "      <td>NaN</td>\n",
       "      <td>INDIVIDUAL</td>\n",
       "      <td>992.0</td>\n",
       "      <td>452.0</td>\n",
       "      <td>92.5</td>\n",
       "      <td>0</td>\n",
       "      <td>0</td>\n",
       "      <td>...</td>\n",
       "      <td>36 months</td>\n",
       "      <td>25</td>\n",
       "      <td>6941</td>\n",
       "      <td>6000</td>\n",
       "      <td>0</td>\n",
       "      <td>10300</td>\n",
       "      <td>0</td>\n",
       "      <td>6941</td>\n",
       "      <td>10300</td>\n",
       "      <td>21979</td>\n",
       "    </tr>\n",
       "    <tr>\n",
       "      <th>16</th>\n",
       "      <td>0</td>\n",
       "      <td>5</td>\n",
       "      <td>67000.0</td>\n",
       "      <td>NaN</td>\n",
       "      <td>INDIVIDUAL</td>\n",
       "      <td>21760.0</td>\n",
       "      <td>17016.0</td>\n",
       "      <td>46.3</td>\n",
       "      <td>0</td>\n",
       "      <td>0</td>\n",
       "      <td>...</td>\n",
       "      <td>60 months</td>\n",
       "      <td>39</td>\n",
       "      <td>33666</td>\n",
       "      <td>31700</td>\n",
       "      <td>28532</td>\n",
       "      <td>41700</td>\n",
       "      <td>0</td>\n",
       "      <td>239362</td>\n",
       "      <td>283223</td>\n",
       "      <td>9867</td>\n",
       "    </tr>\n",
       "    <tr>\n",
       "      <th>17</th>\n",
       "      <td>0</td>\n",
       "      <td>3</td>\n",
       "      <td>21312.0</td>\n",
       "      <td>NaN</td>\n",
       "      <td>INDIVIDUAL</td>\n",
       "      <td>57.0</td>\n",
       "      <td>31122.0</td>\n",
       "      <td>1.8</td>\n",
       "      <td>0</td>\n",
       "      <td>0</td>\n",
       "      <td>...</td>\n",
       "      <td>36 months</td>\n",
       "      <td>20</td>\n",
       "      <td>744</td>\n",
       "      <td>31700</td>\n",
       "      <td>0</td>\n",
       "      <td>39600</td>\n",
       "      <td>944</td>\n",
       "      <td>744</td>\n",
       "      <td>39600</td>\n",
       "      <td>2607</td>\n",
       "    </tr>\n",
       "    <tr>\n",
       "      <th>18</th>\n",
       "      <td>0</td>\n",
       "      <td>4</td>\n",
       "      <td>60000.0</td>\n",
       "      <td>NaN</td>\n",
       "      <td>INDIVIDUAL</td>\n",
       "      <td>21171.0</td>\n",
       "      <td>112.0</td>\n",
       "      <td>98.0</td>\n",
       "      <td>0</td>\n",
       "      <td>0</td>\n",
       "      <td>...</td>\n",
       "      <td>36 months</td>\n",
       "      <td>29</td>\n",
       "      <td>151547</td>\n",
       "      <td>5500</td>\n",
       "      <td>154033</td>\n",
       "      <td>17400</td>\n",
       "      <td>0</td>\n",
       "      <td>296389</td>\n",
       "      <td>323433</td>\n",
       "      <td>2750</td>\n",
       "    </tr>\n",
       "    <tr>\n",
       "      <th>19</th>\n",
       "      <td>0</td>\n",
       "      <td>8</td>\n",
       "      <td>108000.0</td>\n",
       "      <td>NaN</td>\n",
       "      <td>INDIVIDUAL</td>\n",
       "      <td>23779.0</td>\n",
       "      <td>1267.0</td>\n",
       "      <td>93.0</td>\n",
       "      <td>0</td>\n",
       "      <td>0</td>\n",
       "      <td>...</td>\n",
       "      <td>36 months</td>\n",
       "      <td>20</td>\n",
       "      <td>113801</td>\n",
       "      <td>3800</td>\n",
       "      <td>119491</td>\n",
       "      <td>6800</td>\n",
       "      <td>0</td>\n",
       "      <td>237795</td>\n",
       "      <td>256151</td>\n",
       "      <td>3334</td>\n",
       "    </tr>\n",
       "    <tr>\n",
       "      <th>20</th>\n",
       "      <td>0</td>\n",
       "      <td>7</td>\n",
       "      <td>50000.0</td>\n",
       "      <td>NaN</td>\n",
       "      <td>INDIVIDUAL</td>\n",
       "      <td>3049.0</td>\n",
       "      <td>321.0</td>\n",
       "      <td>93.0</td>\n",
       "      <td>0</td>\n",
       "      <td>0</td>\n",
       "      <td>...</td>\n",
       "      <td>36 months</td>\n",
       "      <td>23</td>\n",
       "      <td>36589</td>\n",
       "      <td>4600</td>\n",
       "      <td>48555</td>\n",
       "      <td>8700</td>\n",
       "      <td>0</td>\n",
       "      <td>36589</td>\n",
       "      <td>62433</td>\n",
       "      <td>11922</td>\n",
       "    </tr>\n",
       "    <tr>\n",
       "      <th>21</th>\n",
       "      <td>0</td>\n",
       "      <td>5</td>\n",
       "      <td>42500.0</td>\n",
       "      <td>NaN</td>\n",
       "      <td>INDIVIDUAL</td>\n",
       "      <td>6697.0</td>\n",
       "      <td>13248.0</td>\n",
       "      <td>55.8</td>\n",
       "      <td>0</td>\n",
       "      <td>0</td>\n",
       "      <td>...</td>\n",
       "      <td>36 months</td>\n",
       "      <td>41</td>\n",
       "      <td>66967</td>\n",
       "      <td>30000</td>\n",
       "      <td>62765</td>\n",
       "      <td>41400</td>\n",
       "      <td>0</td>\n",
       "      <td>66967</td>\n",
       "      <td>104165</td>\n",
       "      <td>4361</td>\n",
       "    </tr>\n",
       "    <tr>\n",
       "      <th>22</th>\n",
       "      <td>0</td>\n",
       "      <td>3</td>\n",
       "      <td>55000.0</td>\n",
       "      <td>NaN</td>\n",
       "      <td>INDIVIDUAL</td>\n",
       "      <td>4946.0</td>\n",
       "      <td>1222.0</td>\n",
       "      <td>49.1</td>\n",
       "      <td>0</td>\n",
       "      <td>0</td>\n",
       "      <td>...</td>\n",
       "      <td>36 months</td>\n",
       "      <td>18</td>\n",
       "      <td>37031</td>\n",
       "      <td>2400</td>\n",
       "      <td>47162</td>\n",
       "      <td>15900</td>\n",
       "      <td>0</td>\n",
       "      <td>59352</td>\n",
       "      <td>113062</td>\n",
       "      <td>2750</td>\n",
       "    </tr>\n",
       "    <tr>\n",
       "      <th>23</th>\n",
       "      <td>0</td>\n",
       "      <td>4</td>\n",
       "      <td>82000.0</td>\n",
       "      <td>NaN</td>\n",
       "      <td>INDIVIDUAL</td>\n",
       "      <td>3392.0</td>\n",
       "      <td>2353.0</td>\n",
       "      <td>76.7</td>\n",
       "      <td>0</td>\n",
       "      <td>0</td>\n",
       "      <td>...</td>\n",
       "      <td>36 months</td>\n",
       "      <td>25</td>\n",
       "      <td>37313</td>\n",
       "      <td>10100</td>\n",
       "      <td>34516</td>\n",
       "      <td>11900</td>\n",
       "      <td>0</td>\n",
       "      <td>37313</td>\n",
       "      <td>46416</td>\n",
       "      <td>11922</td>\n",
       "    </tr>\n",
       "    <tr>\n",
       "      <th>24</th>\n",
       "      <td>0</td>\n",
       "      <td>6</td>\n",
       "      <td>34000.0</td>\n",
       "      <td>NaN</td>\n",
       "      <td>INDIVIDUAL</td>\n",
       "      <td>1440.0</td>\n",
       "      <td>890.0</td>\n",
       "      <td>90.1</td>\n",
       "      <td>0</td>\n",
       "      <td>0</td>\n",
       "      <td>...</td>\n",
       "      <td>36 months</td>\n",
       "      <td>51</td>\n",
       "      <td>24481</td>\n",
       "      <td>9000</td>\n",
       "      <td>12439</td>\n",
       "      <td>27800</td>\n",
       "      <td>5098</td>\n",
       "      <td>24481</td>\n",
       "      <td>40239</td>\n",
       "      <td>3402</td>\n",
       "    </tr>\n",
       "    <tr>\n",
       "      <th>25</th>\n",
       "      <td>0</td>\n",
       "      <td>14</td>\n",
       "      <td>45000.0</td>\n",
       "      <td>NaN</td>\n",
       "      <td>INDIVIDUAL</td>\n",
       "      <td>783.0</td>\n",
       "      <td>8970.0</td>\n",
       "      <td>48.4</td>\n",
       "      <td>0</td>\n",
       "      <td>0</td>\n",
       "      <td>...</td>\n",
       "      <td>36 months</td>\n",
       "      <td>22</td>\n",
       "      <td>15659</td>\n",
       "      <td>17400</td>\n",
       "      <td>5725</td>\n",
       "      <td>26500</td>\n",
       "      <td>0</td>\n",
       "      <td>15659</td>\n",
       "      <td>32225</td>\n",
       "      <td>9867</td>\n",
       "    </tr>\n",
       "    <tr>\n",
       "      <th>26</th>\n",
       "      <td>0</td>\n",
       "      <td>5</td>\n",
       "      <td>75000.0</td>\n",
       "      <td>NaN</td>\n",
       "      <td>INDIVIDUAL</td>\n",
       "      <td>18235.0</td>\n",
       "      <td>1906.0</td>\n",
       "      <td>92.8</td>\n",
       "      <td>0</td>\n",
       "      <td>0</td>\n",
       "      <td>...</td>\n",
       "      <td>36 months</td>\n",
       "      <td>59</td>\n",
       "      <td>163130</td>\n",
       "      <td>26400</td>\n",
       "      <td>136117</td>\n",
       "      <td>31400</td>\n",
       "      <td>0</td>\n",
       "      <td>255284</td>\n",
       "      <td>266634</td>\n",
       "      <td>1414</td>\n",
       "    </tr>\n",
       "    <tr>\n",
       "      <th>27</th>\n",
       "      <td>0</td>\n",
       "      <td>6</td>\n",
       "      <td>45000.0</td>\n",
       "      <td>NaN</td>\n",
       "      <td>INDIVIDUAL</td>\n",
       "      <td>3871.0</td>\n",
       "      <td>741.0</td>\n",
       "      <td>91.3</td>\n",
       "      <td>0</td>\n",
       "      <td>0</td>\n",
       "      <td>...</td>\n",
       "      <td>36 months</td>\n",
       "      <td>26</td>\n",
       "      <td>69669</td>\n",
       "      <td>8500</td>\n",
       "      <td>53750</td>\n",
       "      <td>12600</td>\n",
       "      <td>0</td>\n",
       "      <td>69669</td>\n",
       "      <td>66350</td>\n",
       "      <td>5084</td>\n",
       "    </tr>\n",
       "    <tr>\n",
       "      <th>28</th>\n",
       "      <td>0</td>\n",
       "      <td>1</td>\n",
       "      <td>65000.0</td>\n",
       "      <td>NaN</td>\n",
       "      <td>INDIVIDUAL</td>\n",
       "      <td>22200.0</td>\n",
       "      <td>27119.0</td>\n",
       "      <td>45.5</td>\n",
       "      <td>0</td>\n",
       "      <td>0</td>\n",
       "      <td>...</td>\n",
       "      <td>60 months</td>\n",
       "      <td>24</td>\n",
       "      <td>23740</td>\n",
       "      <td>49800</td>\n",
       "      <td>10919</td>\n",
       "      <td>65400</td>\n",
       "      <td>0</td>\n",
       "      <td>221998</td>\n",
       "      <td>290819</td>\n",
       "      <td>5280</td>\n",
       "    </tr>\n",
       "    <tr>\n",
       "      <th>29</th>\n",
       "      <td>0</td>\n",
       "      <td>5</td>\n",
       "      <td>60000.0</td>\n",
       "      <td>NaN</td>\n",
       "      <td>INDIVIDUAL</td>\n",
       "      <td>4283.0</td>\n",
       "      <td>11458.0</td>\n",
       "      <td>48.6</td>\n",
       "      <td>0</td>\n",
       "      <td>0</td>\n",
       "      <td>...</td>\n",
       "      <td>60 months</td>\n",
       "      <td>15</td>\n",
       "      <td>47115</td>\n",
       "      <td>22300</td>\n",
       "      <td>40742</td>\n",
       "      <td>33700</td>\n",
       "      <td>0</td>\n",
       "      <td>47115</td>\n",
       "      <td>75735</td>\n",
       "      <td>1194</td>\n",
       "    </tr>\n",
       "    <tr>\n",
       "      <th>...</th>\n",
       "      <td>...</td>\n",
       "      <td>...</td>\n",
       "      <td>...</td>\n",
       "      <td>...</td>\n",
       "      <td>...</td>\n",
       "      <td>...</td>\n",
       "      <td>...</td>\n",
       "      <td>...</td>\n",
       "      <td>...</td>\n",
       "      <td>...</td>\n",
       "      <td>...</td>\n",
       "      <td>...</td>\n",
       "      <td>...</td>\n",
       "      <td>...</td>\n",
       "      <td>...</td>\n",
       "      <td>...</td>\n",
       "      <td>...</td>\n",
       "      <td>...</td>\n",
       "      <td>...</td>\n",
       "      <td>...</td>\n",
       "      <td>...</td>\n",
       "    </tr>\n",
       "    <tr>\n",
       "      <th>146850</th>\n",
       "      <td>0</td>\n",
       "      <td>3</td>\n",
       "      <td>70000.0</td>\n",
       "      <td>NaN</td>\n",
       "      <td>INDIVIDUAL</td>\n",
       "      <td>5319.0</td>\n",
       "      <td>21247.0</td>\n",
       "      <td>6.8</td>\n",
       "      <td>0</td>\n",
       "      <td>0</td>\n",
       "      <td>...</td>\n",
       "      <td>36</td>\n",
       "      <td>24</td>\n",
       "      <td>69148</td>\n",
       "      <td>22800</td>\n",
       "      <td>76449</td>\n",
       "      <td>34500</td>\n",
       "      <td>0</td>\n",
       "      <td>69148</td>\n",
       "      <td>110949</td>\n",
       "      <td>3292</td>\n",
       "    </tr>\n",
       "    <tr>\n",
       "      <th>146851</th>\n",
       "      <td>0</td>\n",
       "      <td>0</td>\n",
       "      <td>46000.0</td>\n",
       "      <td>NaN</td>\n",
       "      <td>INDIVIDUAL</td>\n",
       "      <td>1842.0</td>\n",
       "      <td>1290.0</td>\n",
       "      <td>80.2</td>\n",
       "      <td>0</td>\n",
       "      <td>0</td>\n",
       "      <td>...</td>\n",
       "      <td>36</td>\n",
       "      <td>13</td>\n",
       "      <td>14732</td>\n",
       "      <td>6500</td>\n",
       "      <td>15804</td>\n",
       "      <td>16400</td>\n",
       "      <td>0</td>\n",
       "      <td>14732</td>\n",
       "      <td>32204</td>\n",
       "      <td>5280</td>\n",
       "    </tr>\n",
       "    <tr>\n",
       "      <th>146852</th>\n",
       "      <td>0</td>\n",
       "      <td>7</td>\n",
       "      <td>67000.0</td>\n",
       "      <td>NaN</td>\n",
       "      <td>INDIVIDUAL</td>\n",
       "      <td>5000.0</td>\n",
       "      <td>840.0</td>\n",
       "      <td>76.0</td>\n",
       "      <td>0</td>\n",
       "      <td>1</td>\n",
       "      <td>...</td>\n",
       "      <td>36</td>\n",
       "      <td>13</td>\n",
       "      <td>27720</td>\n",
       "      <td>3500</td>\n",
       "      <td>24417</td>\n",
       "      <td>17000</td>\n",
       "      <td>310</td>\n",
       "      <td>54996</td>\n",
       "      <td>115367</td>\n",
       "      <td>1779</td>\n",
       "    </tr>\n",
       "    <tr>\n",
       "      <th>146853</th>\n",
       "      <td>0</td>\n",
       "      <td>3</td>\n",
       "      <td>30000.0</td>\n",
       "      <td>NaN</td>\n",
       "      <td>INDIVIDUAL</td>\n",
       "      <td>1521.0</td>\n",
       "      <td>5152.0</td>\n",
       "      <td>41.5</td>\n",
       "      <td>0</td>\n",
       "      <td>0</td>\n",
       "      <td>...</td>\n",
       "      <td>36</td>\n",
       "      <td>15</td>\n",
       "      <td>9124</td>\n",
       "      <td>8800</td>\n",
       "      <td>15082</td>\n",
       "      <td>9400</td>\n",
       "      <td>54</td>\n",
       "      <td>9124</td>\n",
       "      <td>24482</td>\n",
       "      <td>1914</td>\n",
       "    </tr>\n",
       "    <tr>\n",
       "      <th>146854</th>\n",
       "      <td>0</td>\n",
       "      <td>5</td>\n",
       "      <td>55000.0</td>\n",
       "      <td>NaN</td>\n",
       "      <td>INDIVIDUAL</td>\n",
       "      <td>8095.0</td>\n",
       "      <td>1173.0</td>\n",
       "      <td>82.0</td>\n",
       "      <td>0</td>\n",
       "      <td>0</td>\n",
       "      <td>...</td>\n",
       "      <td>36</td>\n",
       "      <td>25</td>\n",
       "      <td>64758</td>\n",
       "      <td>6500</td>\n",
       "      <td>73832</td>\n",
       "      <td>8500</td>\n",
       "      <td>438</td>\n",
       "      <td>64758</td>\n",
       "      <td>82332</td>\n",
       "      <td>2607</td>\n",
       "    </tr>\n",
       "    <tr>\n",
       "      <th>146855</th>\n",
       "      <td>0</td>\n",
       "      <td>2</td>\n",
       "      <td>27000.0</td>\n",
       "      <td>NaN</td>\n",
       "      <td>INDIVIDUAL</td>\n",
       "      <td>1129.0</td>\n",
       "      <td>3334.0</td>\n",
       "      <td>67.0</td>\n",
       "      <td>0</td>\n",
       "      <td>0</td>\n",
       "      <td>...</td>\n",
       "      <td>36</td>\n",
       "      <td>7</td>\n",
       "      <td>6771</td>\n",
       "      <td>10100</td>\n",
       "      <td>0</td>\n",
       "      <td>12700</td>\n",
       "      <td>0</td>\n",
       "      <td>6771</td>\n",
       "      <td>12700</td>\n",
       "      <td>11922</td>\n",
       "    </tr>\n",
       "    <tr>\n",
       "      <th>146856</th>\n",
       "      <td>0</td>\n",
       "      <td>5</td>\n",
       "      <td>48000.0</td>\n",
       "      <td>NaN</td>\n",
       "      <td>INDIVIDUAL</td>\n",
       "      <td>16161.0</td>\n",
       "      <td>432.0</td>\n",
       "      <td>87.7</td>\n",
       "      <td>0</td>\n",
       "      <td>0</td>\n",
       "      <td>...</td>\n",
       "      <td>36</td>\n",
       "      <td>50</td>\n",
       "      <td>21418</td>\n",
       "      <td>3500</td>\n",
       "      <td>26725</td>\n",
       "      <td>8900</td>\n",
       "      <td>0</td>\n",
       "      <td>129285</td>\n",
       "      <td>144400</td>\n",
       "      <td>11830</td>\n",
       "    </tr>\n",
       "    <tr>\n",
       "      <th>146857</th>\n",
       "      <td>0</td>\n",
       "      <td>4</td>\n",
       "      <td>75000.0</td>\n",
       "      <td>NaN</td>\n",
       "      <td>INDIVIDUAL</td>\n",
       "      <td>28671.0</td>\n",
       "      <td>5983.0</td>\n",
       "      <td>87.9</td>\n",
       "      <td>0</td>\n",
       "      <td>0</td>\n",
       "      <td>...</td>\n",
       "      <td>60</td>\n",
       "      <td>33</td>\n",
       "      <td>71121</td>\n",
       "      <td>49600</td>\n",
       "      <td>56736</td>\n",
       "      <td>49600</td>\n",
       "      <td>0</td>\n",
       "      <td>258039</td>\n",
       "      <td>330186</td>\n",
       "      <td>5084</td>\n",
       "    </tr>\n",
       "    <tr>\n",
       "      <th>146858</th>\n",
       "      <td>0</td>\n",
       "      <td>6</td>\n",
       "      <td>47000.0</td>\n",
       "      <td>NaN</td>\n",
       "      <td>INDIVIDUAL</td>\n",
       "      <td>2258.0</td>\n",
       "      <td>2817.0</td>\n",
       "      <td>78.3</td>\n",
       "      <td>0</td>\n",
       "      <td>0</td>\n",
       "      <td>...</td>\n",
       "      <td>60</td>\n",
       "      <td>21</td>\n",
       "      <td>24833</td>\n",
       "      <td>13000</td>\n",
       "      <td>27187</td>\n",
       "      <td>34700</td>\n",
       "      <td>661</td>\n",
       "      <td>24833</td>\n",
       "      <td>61887</td>\n",
       "      <td>4715</td>\n",
       "    </tr>\n",
       "    <tr>\n",
       "      <th>146859</th>\n",
       "      <td>0</td>\n",
       "      <td>3</td>\n",
       "      <td>45000.0</td>\n",
       "      <td>NaN</td>\n",
       "      <td>INDIVIDUAL</td>\n",
       "      <td>3787.0</td>\n",
       "      <td>1810.0</td>\n",
       "      <td>82.4</td>\n",
       "      <td>0</td>\n",
       "      <td>0</td>\n",
       "      <td>...</td>\n",
       "      <td>60</td>\n",
       "      <td>28</td>\n",
       "      <td>56808</td>\n",
       "      <td>10300</td>\n",
       "      <td>58215</td>\n",
       "      <td>13300</td>\n",
       "      <td>0</td>\n",
       "      <td>56808</td>\n",
       "      <td>71515</td>\n",
       "      <td>11922</td>\n",
       "    </tr>\n",
       "    <tr>\n",
       "      <th>146860</th>\n",
       "      <td>0</td>\n",
       "      <td>4</td>\n",
       "      <td>90000.0</td>\n",
       "      <td>NaN</td>\n",
       "      <td>INDIVIDUAL</td>\n",
       "      <td>8651.0</td>\n",
       "      <td>7857.0</td>\n",
       "      <td>64.4</td>\n",
       "      <td>0</td>\n",
       "      <td>0</td>\n",
       "      <td>...</td>\n",
       "      <td>36</td>\n",
       "      <td>48</td>\n",
       "      <td>138420</td>\n",
       "      <td>22100</td>\n",
       "      <td>142799</td>\n",
       "      <td>29000</td>\n",
       "      <td>0</td>\n",
       "      <td>138420</td>\n",
       "      <td>171799</td>\n",
       "      <td>4791</td>\n",
       "    </tr>\n",
       "    <tr>\n",
       "      <th>146861</th>\n",
       "      <td>0</td>\n",
       "      <td>0</td>\n",
       "      <td>37500.0</td>\n",
       "      <td>NaN</td>\n",
       "      <td>INDIVIDUAL</td>\n",
       "      <td>3346.0</td>\n",
       "      <td>0.0</td>\n",
       "      <td>102.4</td>\n",
       "      <td>0</td>\n",
       "      <td>0</td>\n",
       "      <td>...</td>\n",
       "      <td>36</td>\n",
       "      <td>23</td>\n",
       "      <td>33459</td>\n",
       "      <td>7700</td>\n",
       "      <td>33216</td>\n",
       "      <td>25900</td>\n",
       "      <td>0</td>\n",
       "      <td>33459</td>\n",
       "      <td>59116</td>\n",
       "      <td>1914</td>\n",
       "    </tr>\n",
       "    <tr>\n",
       "      <th>146862</th>\n",
       "      <td>0</td>\n",
       "      <td>6</td>\n",
       "      <td>60000.0</td>\n",
       "      <td>NaN</td>\n",
       "      <td>INDIVIDUAL</td>\n",
       "      <td>1288.0</td>\n",
       "      <td>1249.0</td>\n",
       "      <td>81.9</td>\n",
       "      <td>0</td>\n",
       "      <td>0</td>\n",
       "      <td>...</td>\n",
       "      <td>36</td>\n",
       "      <td>27</td>\n",
       "      <td>27046</td>\n",
       "      <td>6900</td>\n",
       "      <td>36610</td>\n",
       "      <td>18700</td>\n",
       "      <td>1530</td>\n",
       "      <td>27046</td>\n",
       "      <td>55310</td>\n",
       "      <td>1237</td>\n",
       "    </tr>\n",
       "    <tr>\n",
       "      <th>146863</th>\n",
       "      <td>0</td>\n",
       "      <td>1</td>\n",
       "      <td>51000.0</td>\n",
       "      <td>NaN</td>\n",
       "      <td>INDIVIDUAL</td>\n",
       "      <td>19225.0</td>\n",
       "      <td>5891.0</td>\n",
       "      <td>82.3</td>\n",
       "      <td>0</td>\n",
       "      <td>0</td>\n",
       "      <td>...</td>\n",
       "      <td>36</td>\n",
       "      <td>25</td>\n",
       "      <td>39906</td>\n",
       "      <td>33200</td>\n",
       "      <td>29951</td>\n",
       "      <td>43100</td>\n",
       "      <td>0</td>\n",
       "      <td>192249</td>\n",
       "      <td>240781</td>\n",
       "      <td>2340</td>\n",
       "    </tr>\n",
       "    <tr>\n",
       "      <th>146864</th>\n",
       "      <td>0</td>\n",
       "      <td>4</td>\n",
       "      <td>95000.0</td>\n",
       "      <td>NaN</td>\n",
       "      <td>INDIVIDUAL</td>\n",
       "      <td>9200.0</td>\n",
       "      <td>6605.0</td>\n",
       "      <td>55.7</td>\n",
       "      <td>0</td>\n",
       "      <td>0</td>\n",
       "      <td>...</td>\n",
       "      <td>36</td>\n",
       "      <td>26</td>\n",
       "      <td>52176</td>\n",
       "      <td>14900</td>\n",
       "      <td>50744</td>\n",
       "      <td>36900</td>\n",
       "      <td>0</td>\n",
       "      <td>119602</td>\n",
       "      <td>162359</td>\n",
       "      <td>1914</td>\n",
       "    </tr>\n",
       "    <tr>\n",
       "      <th>146865</th>\n",
       "      <td>0</td>\n",
       "      <td>5</td>\n",
       "      <td>98000.0</td>\n",
       "      <td>NaN</td>\n",
       "      <td>INDIVIDUAL</td>\n",
       "      <td>8940.0</td>\n",
       "      <td>8988.0</td>\n",
       "      <td>49.8</td>\n",
       "      <td>0</td>\n",
       "      <td>0</td>\n",
       "      <td>...</td>\n",
       "      <td>36</td>\n",
       "      <td>18</td>\n",
       "      <td>80456</td>\n",
       "      <td>17900</td>\n",
       "      <td>111637</td>\n",
       "      <td>21200</td>\n",
       "      <td>108</td>\n",
       "      <td>80456</td>\n",
       "      <td>132837</td>\n",
       "      <td>11830</td>\n",
       "    </tr>\n",
       "    <tr>\n",
       "      <th>146866</th>\n",
       "      <td>0</td>\n",
       "      <td>7</td>\n",
       "      <td>60000.0</td>\n",
       "      <td>NaN</td>\n",
       "      <td>INDIVIDUAL</td>\n",
       "      <td>2421.0</td>\n",
       "      <td>1276.0</td>\n",
       "      <td>81.8</td>\n",
       "      <td>0</td>\n",
       "      <td>0</td>\n",
       "      <td>...</td>\n",
       "      <td>36</td>\n",
       "      <td>17</td>\n",
       "      <td>24205</td>\n",
       "      <td>7000</td>\n",
       "      <td>20969</td>\n",
       "      <td>14600</td>\n",
       "      <td>0</td>\n",
       "      <td>24205</td>\n",
       "      <td>35569</td>\n",
       "      <td>21979</td>\n",
       "    </tr>\n",
       "    <tr>\n",
       "      <th>146867</th>\n",
       "      <td>0</td>\n",
       "      <td>1</td>\n",
       "      <td>49000.0</td>\n",
       "      <td>NaN</td>\n",
       "      <td>INDIVIDUAL</td>\n",
       "      <td>4426.0</td>\n",
       "      <td>27173.0</td>\n",
       "      <td>44.7</td>\n",
       "      <td>0</td>\n",
       "      <td>0</td>\n",
       "      <td>...</td>\n",
       "      <td>36</td>\n",
       "      <td>29</td>\n",
       "      <td>26613</td>\n",
       "      <td>49100</td>\n",
       "      <td>0</td>\n",
       "      <td>66000</td>\n",
       "      <td>0</td>\n",
       "      <td>75249</td>\n",
       "      <td>121275</td>\n",
       "      <td>3993</td>\n",
       "    </tr>\n",
       "    <tr>\n",
       "      <th>146868</th>\n",
       "      <td>0</td>\n",
       "      <td>5</td>\n",
       "      <td>70500.0</td>\n",
       "      <td>NaN</td>\n",
       "      <td>INDIVIDUAL</td>\n",
       "      <td>26291.0</td>\n",
       "      <td>5705.0</td>\n",
       "      <td>54.4</td>\n",
       "      <td>0</td>\n",
       "      <td>0</td>\n",
       "      <td>...</td>\n",
       "      <td>36</td>\n",
       "      <td>21</td>\n",
       "      <td>36001</td>\n",
       "      <td>12500</td>\n",
       "      <td>43602</td>\n",
       "      <td>67300</td>\n",
       "      <td>708</td>\n",
       "      <td>262905</td>\n",
       "      <td>340093</td>\n",
       "      <td>3635</td>\n",
       "    </tr>\n",
       "    <tr>\n",
       "      <th>146869</th>\n",
       "      <td>0</td>\n",
       "      <td>4</td>\n",
       "      <td>70000.0</td>\n",
       "      <td>NaN</td>\n",
       "      <td>INDIVIDUAL</td>\n",
       "      <td>3497.0</td>\n",
       "      <td>2756.0</td>\n",
       "      <td>83.1</td>\n",
       "      <td>0</td>\n",
       "      <td>0</td>\n",
       "      <td>...</td>\n",
       "      <td>36</td>\n",
       "      <td>30</td>\n",
       "      <td>45457</td>\n",
       "      <td>16300</td>\n",
       "      <td>45160</td>\n",
       "      <td>25800</td>\n",
       "      <td>0</td>\n",
       "      <td>45457</td>\n",
       "      <td>75174</td>\n",
       "      <td>679</td>\n",
       "    </tr>\n",
       "    <tr>\n",
       "      <th>146870</th>\n",
       "      <td>0</td>\n",
       "      <td>2</td>\n",
       "      <td>72000.0</td>\n",
       "      <td>NaN</td>\n",
       "      <td>INDIVIDUAL</td>\n",
       "      <td>5217.0</td>\n",
       "      <td>2881.0</td>\n",
       "      <td>85.7</td>\n",
       "      <td>0</td>\n",
       "      <td>0</td>\n",
       "      <td>...</td>\n",
       "      <td>60</td>\n",
       "      <td>19</td>\n",
       "      <td>46955</td>\n",
       "      <td>20100</td>\n",
       "      <td>49575</td>\n",
       "      <td>24100</td>\n",
       "      <td>0</td>\n",
       "      <td>46955</td>\n",
       "      <td>73675</td>\n",
       "      <td>21979</td>\n",
       "    </tr>\n",
       "    <tr>\n",
       "      <th>146871</th>\n",
       "      <td>0</td>\n",
       "      <td>2</td>\n",
       "      <td>5000.0</td>\n",
       "      <td>105000.0</td>\n",
       "      <td>JOINT</td>\n",
       "      <td>2722.0</td>\n",
       "      <td>899.0</td>\n",
       "      <td>86.6</td>\n",
       "      <td>0</td>\n",
       "      <td>0</td>\n",
       "      <td>...</td>\n",
       "      <td>36</td>\n",
       "      <td>18</td>\n",
       "      <td>43546</td>\n",
       "      <td>6700</td>\n",
       "      <td>56883</td>\n",
       "      <td>21000</td>\n",
       "      <td>0</td>\n",
       "      <td>43546</td>\n",
       "      <td>77883</td>\n",
       "      <td>21979</td>\n",
       "    </tr>\n",
       "    <tr>\n",
       "      <th>146872</th>\n",
       "      <td>0</td>\n",
       "      <td>2</td>\n",
       "      <td>80000.0</td>\n",
       "      <td>NaN</td>\n",
       "      <td>INDIVIDUAL</td>\n",
       "      <td>11264.0</td>\n",
       "      <td>9166.0</td>\n",
       "      <td>65.1</td>\n",
       "      <td>0</td>\n",
       "      <td>0</td>\n",
       "      <td>...</td>\n",
       "      <td>36</td>\n",
       "      <td>46</td>\n",
       "      <td>202751</td>\n",
       "      <td>26300</td>\n",
       "      <td>190528</td>\n",
       "      <td>39400</td>\n",
       "      <td>0</td>\n",
       "      <td>202751</td>\n",
       "      <td>229928</td>\n",
       "      <td>1414</td>\n",
       "    </tr>\n",
       "    <tr>\n",
       "      <th>146873</th>\n",
       "      <td>0</td>\n",
       "      <td>0</td>\n",
       "      <td>40000.0</td>\n",
       "      <td>NaN</td>\n",
       "      <td>INDIVIDUAL</td>\n",
       "      <td>2262.0</td>\n",
       "      <td>21631.0</td>\n",
       "      <td>50.3</td>\n",
       "      <td>0</td>\n",
       "      <td>0</td>\n",
       "      <td>...</td>\n",
       "      <td>36</td>\n",
       "      <td>16</td>\n",
       "      <td>22618</td>\n",
       "      <td>43500</td>\n",
       "      <td>0</td>\n",
       "      <td>50500</td>\n",
       "      <td>0</td>\n",
       "      <td>22618</td>\n",
       "      <td>50500</td>\n",
       "      <td>11830</td>\n",
       "    </tr>\n",
       "    <tr>\n",
       "      <th>146874</th>\n",
       "      <td>0</td>\n",
       "      <td>5</td>\n",
       "      <td>55000.0</td>\n",
       "      <td>NaN</td>\n",
       "      <td>INDIVIDUAL</td>\n",
       "      <td>14777.0</td>\n",
       "      <td>357.0</td>\n",
       "      <td>90.8</td>\n",
       "      <td>0</td>\n",
       "      <td>0</td>\n",
       "      <td>...</td>\n",
       "      <td>36</td>\n",
       "      <td>11</td>\n",
       "      <td>53657</td>\n",
       "      <td>3900</td>\n",
       "      <td>53176</td>\n",
       "      <td>16500</td>\n",
       "      <td>0</td>\n",
       "      <td>147772</td>\n",
       "      <td>169651</td>\n",
       "      <td>3909</td>\n",
       "    </tr>\n",
       "    <tr>\n",
       "      <th>146875</th>\n",
       "      <td>0</td>\n",
       "      <td>4</td>\n",
       "      <td>85000.0</td>\n",
       "      <td>NaN</td>\n",
       "      <td>INDIVIDUAL</td>\n",
       "      <td>16153.0</td>\n",
       "      <td>3330.0</td>\n",
       "      <td>30.6</td>\n",
       "      <td>0</td>\n",
       "      <td>0</td>\n",
       "      <td>...</td>\n",
       "      <td>36</td>\n",
       "      <td>22</td>\n",
       "      <td>37920</td>\n",
       "      <td>4800</td>\n",
       "      <td>43276</td>\n",
       "      <td>12300</td>\n",
       "      <td>0</td>\n",
       "      <td>161528</td>\n",
       "      <td>197027</td>\n",
       "      <td>11922</td>\n",
       "    </tr>\n",
       "    <tr>\n",
       "      <th>146876</th>\n",
       "      <td>0</td>\n",
       "      <td>4</td>\n",
       "      <td>130000.0</td>\n",
       "      <td>NaN</td>\n",
       "      <td>INDIVIDUAL</td>\n",
       "      <td>3572.0</td>\n",
       "      <td>17716.0</td>\n",
       "      <td>70.3</td>\n",
       "      <td>0</td>\n",
       "      <td>0</td>\n",
       "      <td>...</td>\n",
       "      <td>36</td>\n",
       "      <td>38</td>\n",
       "      <td>60723</td>\n",
       "      <td>59700</td>\n",
       "      <td>28720</td>\n",
       "      <td>68700</td>\n",
       "      <td>0</td>\n",
       "      <td>60723</td>\n",
       "      <td>103070</td>\n",
       "      <td>21979</td>\n",
       "    </tr>\n",
       "    <tr>\n",
       "      <th>146877</th>\n",
       "      <td>0</td>\n",
       "      <td>5</td>\n",
       "      <td>78000.0</td>\n",
       "      <td>NaN</td>\n",
       "      <td>INDIVIDUAL</td>\n",
       "      <td>4181.0</td>\n",
       "      <td>1960.0</td>\n",
       "      <td>90.2</td>\n",
       "      <td>0</td>\n",
       "      <td>0</td>\n",
       "      <td>...</td>\n",
       "      <td>36</td>\n",
       "      <td>30</td>\n",
       "      <td>58538</td>\n",
       "      <td>20000</td>\n",
       "      <td>44912</td>\n",
       "      <td>42600</td>\n",
       "      <td>0</td>\n",
       "      <td>58538</td>\n",
       "      <td>87512</td>\n",
       "      <td>2137</td>\n",
       "    </tr>\n",
       "    <tr>\n",
       "      <th>146878</th>\n",
       "      <td>0</td>\n",
       "      <td>8</td>\n",
       "      <td>116900.0</td>\n",
       "      <td>NaN</td>\n",
       "      <td>INDIVIDUAL</td>\n",
       "      <td>15316.0</td>\n",
       "      <td>44531.0</td>\n",
       "      <td>25.7</td>\n",
       "      <td>0</td>\n",
       "      <td>0</td>\n",
       "      <td>...</td>\n",
       "      <td>60</td>\n",
       "      <td>46</td>\n",
       "      <td>114316</td>\n",
       "      <td>59900</td>\n",
       "      <td>116057</td>\n",
       "      <td>87900</td>\n",
       "      <td>0</td>\n",
       "      <td>321642</td>\n",
       "      <td>440525</td>\n",
       "      <td>5633</td>\n",
       "    </tr>\n",
       "    <tr>\n",
       "      <th>146879</th>\n",
       "      <td>0</td>\n",
       "      <td>6</td>\n",
       "      <td>45000.0</td>\n",
       "      <td>110000.0</td>\n",
       "      <td>JOINT</td>\n",
       "      <td>36312.0</td>\n",
       "      <td>2422.0</td>\n",
       "      <td>92.0</td>\n",
       "      <td>0</td>\n",
       "      <td>0</td>\n",
       "      <td>...</td>\n",
       "      <td>36</td>\n",
       "      <td>24</td>\n",
       "      <td>33418</td>\n",
       "      <td>30300</td>\n",
       "      <td>0</td>\n",
       "      <td>44800</td>\n",
       "      <td>0</td>\n",
       "      <td>290497</td>\n",
       "      <td>303050</td>\n",
       "      <td>4715</td>\n",
       "    </tr>\n",
       "  </tbody>\n",
       "</table>\n",
       "<p>146880 rows × 78 columns</p>\n",
       "</div>"
      ],
      "text/plain": [
       "        accnowdelinq  accopenpast24mths  annualinc  annualincjoint  \\\n",
       "0                  0                  7    58000.0             NaN   \n",
       "1                  0                  5    78000.0             NaN   \n",
       "2                  0                  4    63800.0             NaN   \n",
       "3                  0                  6    50000.0             NaN   \n",
       "4                  0                  8    69000.0             NaN   \n",
       "5                  0                  6    89000.0             NaN   \n",
       "6                  0                  4    26000.0             NaN   \n",
       "7                  0                  3   109777.0             NaN   \n",
       "8                  0                  2    75000.0             NaN   \n",
       "9                  0                  7    60000.0             NaN   \n",
       "10                 0                  0    90000.0             NaN   \n",
       "11                 0                  6    72000.0             NaN   \n",
       "12                 0                  6    32200.0             NaN   \n",
       "13                 0                  2    60000.0             NaN   \n",
       "14                 0                  6    37000.0             NaN   \n",
       "15                 0                  6    20000.0             NaN   \n",
       "16                 0                  5    67000.0             NaN   \n",
       "17                 0                  3    21312.0             NaN   \n",
       "18                 0                  4    60000.0             NaN   \n",
       "19                 0                  8   108000.0             NaN   \n",
       "20                 0                  7    50000.0             NaN   \n",
       "21                 0                  5    42500.0             NaN   \n",
       "22                 0                  3    55000.0             NaN   \n",
       "23                 0                  4    82000.0             NaN   \n",
       "24                 0                  6    34000.0             NaN   \n",
       "25                 0                 14    45000.0             NaN   \n",
       "26                 0                  5    75000.0             NaN   \n",
       "27                 0                  6    45000.0             NaN   \n",
       "28                 0                  1    65000.0             NaN   \n",
       "29                 0                  5    60000.0             NaN   \n",
       "...              ...                ...        ...             ...   \n",
       "146850             0                  3    70000.0             NaN   \n",
       "146851             0                  0    46000.0             NaN   \n",
       "146852             0                  7    67000.0             NaN   \n",
       "146853             0                  3    30000.0             NaN   \n",
       "146854             0                  5    55000.0             NaN   \n",
       "146855             0                  2    27000.0             NaN   \n",
       "146856             0                  5    48000.0             NaN   \n",
       "146857             0                  4    75000.0             NaN   \n",
       "146858             0                  6    47000.0             NaN   \n",
       "146859             0                  3    45000.0             NaN   \n",
       "146860             0                  4    90000.0             NaN   \n",
       "146861             0                  0    37500.0             NaN   \n",
       "146862             0                  6    60000.0             NaN   \n",
       "146863             0                  1    51000.0             NaN   \n",
       "146864             0                  4    95000.0             NaN   \n",
       "146865             0                  5    98000.0             NaN   \n",
       "146866             0                  7    60000.0             NaN   \n",
       "146867             0                  1    49000.0             NaN   \n",
       "146868             0                  5    70500.0             NaN   \n",
       "146869             0                  4    70000.0             NaN   \n",
       "146870             0                  2    72000.0             NaN   \n",
       "146871             0                  2     5000.0        105000.0   \n",
       "146872             0                  2    80000.0             NaN   \n",
       "146873             0                  0    40000.0             NaN   \n",
       "146874             0                  5    55000.0             NaN   \n",
       "146875             0                  4    85000.0             NaN   \n",
       "146876             0                  4   130000.0             NaN   \n",
       "146877             0                  5    78000.0             NaN   \n",
       "146878             0                  8   116900.0             NaN   \n",
       "146879             0                  6    45000.0        110000.0   \n",
       "\n",
       "       applicationtype  avgcurbal  bcopentobuy  bcutil  chargeoffwithin12mths  \\\n",
       "0           INDIVIDUAL     9536.0       7599.0    41.5                      0   \n",
       "1           INDIVIDUAL    29828.0       9525.0     4.7                      0   \n",
       "2           INDIVIDUAL     4232.0        324.0    97.8                      0   \n",
       "3           INDIVIDUAL     5857.0        332.0    93.2                      0   \n",
       "4           INDIVIDUAL     3214.0       6494.0    69.2                      0   \n",
       "5           INDIVIDUAL    44136.0       1333.0    86.4                      0   \n",
       "6           INDIVIDUAL     1267.0      12152.0    26.8                      0   \n",
       "7           INDIVIDUAL    53392.0       2559.0    72.2                      0   \n",
       "8           INDIVIDUAL    17456.0         71.0    98.2                      0   \n",
       "9           INDIVIDUAL     1571.0       2604.0    52.7                      0   \n",
       "10          INDIVIDUAL     4745.0        324.0    98.5                      0   \n",
       "11          INDIVIDUAL    39356.0       3977.0    89.0                      0   \n",
       "12          INDIVIDUAL     2054.0       3636.0    72.2                      0   \n",
       "13          INDIVIDUAL     3258.0        552.0    85.8                      0   \n",
       "14          INDIVIDUAL     2149.0        390.0    90.2                      0   \n",
       "15          INDIVIDUAL      992.0        452.0    92.5                      0   \n",
       "16          INDIVIDUAL    21760.0      17016.0    46.3                      0   \n",
       "17          INDIVIDUAL       57.0      31122.0     1.8                      0   \n",
       "18          INDIVIDUAL    21171.0        112.0    98.0                      0   \n",
       "19          INDIVIDUAL    23779.0       1267.0    93.0                      0   \n",
       "20          INDIVIDUAL     3049.0        321.0    93.0                      0   \n",
       "21          INDIVIDUAL     6697.0      13248.0    55.8                      0   \n",
       "22          INDIVIDUAL     4946.0       1222.0    49.1                      0   \n",
       "23          INDIVIDUAL     3392.0       2353.0    76.7                      0   \n",
       "24          INDIVIDUAL     1440.0        890.0    90.1                      0   \n",
       "25          INDIVIDUAL      783.0       8970.0    48.4                      0   \n",
       "26          INDIVIDUAL    18235.0       1906.0    92.8                      0   \n",
       "27          INDIVIDUAL     3871.0        741.0    91.3                      0   \n",
       "28          INDIVIDUAL    22200.0      27119.0    45.5                      0   \n",
       "29          INDIVIDUAL     4283.0      11458.0    48.6                      0   \n",
       "...                ...        ...          ...     ...                    ...   \n",
       "146850      INDIVIDUAL     5319.0      21247.0     6.8                      0   \n",
       "146851      INDIVIDUAL     1842.0       1290.0    80.2                      0   \n",
       "146852      INDIVIDUAL     5000.0        840.0    76.0                      0   \n",
       "146853      INDIVIDUAL     1521.0       5152.0    41.5                      0   \n",
       "146854      INDIVIDUAL     8095.0       1173.0    82.0                      0   \n",
       "146855      INDIVIDUAL     1129.0       3334.0    67.0                      0   \n",
       "146856      INDIVIDUAL    16161.0        432.0    87.7                      0   \n",
       "146857      INDIVIDUAL    28671.0       5983.0    87.9                      0   \n",
       "146858      INDIVIDUAL     2258.0       2817.0    78.3                      0   \n",
       "146859      INDIVIDUAL     3787.0       1810.0    82.4                      0   \n",
       "146860      INDIVIDUAL     8651.0       7857.0    64.4                      0   \n",
       "146861      INDIVIDUAL     3346.0          0.0   102.4                      0   \n",
       "146862      INDIVIDUAL     1288.0       1249.0    81.9                      0   \n",
       "146863      INDIVIDUAL    19225.0       5891.0    82.3                      0   \n",
       "146864      INDIVIDUAL     9200.0       6605.0    55.7                      0   \n",
       "146865      INDIVIDUAL     8940.0       8988.0    49.8                      0   \n",
       "146866      INDIVIDUAL     2421.0       1276.0    81.8                      0   \n",
       "146867      INDIVIDUAL     4426.0      27173.0    44.7                      0   \n",
       "146868      INDIVIDUAL    26291.0       5705.0    54.4                      0   \n",
       "146869      INDIVIDUAL     3497.0       2756.0    83.1                      0   \n",
       "146870      INDIVIDUAL     5217.0       2881.0    85.7                      0   \n",
       "146871           JOINT     2722.0        899.0    86.6                      0   \n",
       "146872      INDIVIDUAL    11264.0       9166.0    65.1                      0   \n",
       "146873      INDIVIDUAL     2262.0      21631.0    50.3                      0   \n",
       "146874      INDIVIDUAL    14777.0        357.0    90.8                      0   \n",
       "146875      INDIVIDUAL    16153.0       3330.0    30.6                      0   \n",
       "146876      INDIVIDUAL     3572.0      17716.0    70.3                      0   \n",
       "146877      INDIVIDUAL     4181.0       1960.0    90.2                      0   \n",
       "146878      INDIVIDUAL    15316.0      44531.0    25.7                      0   \n",
       "146879           JOINT    36312.0       2422.0    92.0                      0   \n",
       "\n",
       "        collections12mthsexmed       ...              term  totalacc  \\\n",
       "0                            0       ...         36 months        36   \n",
       "1                            0       ...         60 months        17   \n",
       "2                            0       ...         60 months        35   \n",
       "3                            0       ...         36 months        20   \n",
       "4                            0       ...         36 months        44   \n",
       "5                            0       ...         36 months        32   \n",
       "6                            0       ...         36 months        13   \n",
       "7                            0       ...         60 months        14   \n",
       "8                            0       ...         36 months        31   \n",
       "9                            0       ...         36 months        19   \n",
       "10                           0       ...         36 months        10   \n",
       "11                           0       ...         36 months        23   \n",
       "12                           0       ...         36 months        21   \n",
       "13                           0       ...         36 months        18   \n",
       "14                           0       ...         36 months        22   \n",
       "15                           0       ...         36 months        25   \n",
       "16                           0       ...         60 months        39   \n",
       "17                           0       ...         36 months        20   \n",
       "18                           0       ...         36 months        29   \n",
       "19                           0       ...         36 months        20   \n",
       "20                           0       ...         36 months        23   \n",
       "21                           0       ...         36 months        41   \n",
       "22                           0       ...         36 months        18   \n",
       "23                           0       ...         36 months        25   \n",
       "24                           0       ...         36 months        51   \n",
       "25                           0       ...         36 months        22   \n",
       "26                           0       ...         36 months        59   \n",
       "27                           0       ...         36 months        26   \n",
       "28                           0       ...         60 months        24   \n",
       "29                           0       ...         60 months        15   \n",
       "...                        ...       ...               ...       ...   \n",
       "146850                       0       ...                36        24   \n",
       "146851                       0       ...                36        13   \n",
       "146852                       1       ...                36        13   \n",
       "146853                       0       ...                36        15   \n",
       "146854                       0       ...                36        25   \n",
       "146855                       0       ...                36         7   \n",
       "146856                       0       ...                36        50   \n",
       "146857                       0       ...                60        33   \n",
       "146858                       0       ...                60        21   \n",
       "146859                       0       ...                60        28   \n",
       "146860                       0       ...                36        48   \n",
       "146861                       0       ...                36        23   \n",
       "146862                       0       ...                36        27   \n",
       "146863                       0       ...                36        25   \n",
       "146864                       0       ...                36        26   \n",
       "146865                       0       ...                36        18   \n",
       "146866                       0       ...                36        17   \n",
       "146867                       0       ...                36        29   \n",
       "146868                       0       ...                36        21   \n",
       "146869                       0       ...                36        30   \n",
       "146870                       0       ...                60        19   \n",
       "146871                       0       ...                36        18   \n",
       "146872                       0       ...                36        46   \n",
       "146873                       0       ...                36        16   \n",
       "146874                       0       ...                36        11   \n",
       "146875                       0       ...                36        22   \n",
       "146876                       0       ...                36        38   \n",
       "146877                       0       ...                36        30   \n",
       "146878                       0       ...                60        46   \n",
       "146879                       0       ...                36        24   \n",
       "\n",
       "        totalbalexmort  totalbclimit totalilhighcreditlimit totalrevhilim  \\\n",
       "0                15030         13000                  11325         19400   \n",
       "1               149140         10000                  12000        184500   \n",
       "2                42315         15000                  35573         21500   \n",
       "3                64426          4900                  64031         18300   \n",
       "4                38566         21100                  24890         27600   \n",
       "5                61606          9800                  47946         24300   \n",
       "6                10133         16600                   6000         22000   \n",
       "7                34475          9200                  33000         12000   \n",
       "8                36205          4000                  41370         10900   \n",
       "9                17281          5500                  27243         15700   \n",
       "10               23723         21200                      0         24200   \n",
       "11               79490         36000                  78126         39400   \n",
       "12               20539         13100                  12000         15300   \n",
       "13               22809          3900                  18854         11600   \n",
       "14               19342          4000                  20637         22500   \n",
       "15                6941          6000                      0         10300   \n",
       "16               33666         31700                  28532         41700   \n",
       "17                 744         31700                      0         39600   \n",
       "18              151547          5500                 154033         17400   \n",
       "19              113801          3800                 119491          6800   \n",
       "20               36589          4600                  48555          8700   \n",
       "21               66967         30000                  62765         41400   \n",
       "22               37031          2400                  47162         15900   \n",
       "23               37313         10100                  34516         11900   \n",
       "24               24481          9000                  12439         27800   \n",
       "25               15659         17400                   5725         26500   \n",
       "26              163130         26400                 136117         31400   \n",
       "27               69669          8500                  53750         12600   \n",
       "28               23740         49800                  10919         65400   \n",
       "29               47115         22300                  40742         33700   \n",
       "...                ...           ...                    ...           ...   \n",
       "146850           69148         22800                  76449         34500   \n",
       "146851           14732          6500                  15804         16400   \n",
       "146852           27720          3500                  24417         17000   \n",
       "146853            9124          8800                  15082          9400   \n",
       "146854           64758          6500                  73832          8500   \n",
       "146855            6771         10100                      0         12700   \n",
       "146856           21418          3500                  26725          8900   \n",
       "146857           71121         49600                  56736         49600   \n",
       "146858           24833         13000                  27187         34700   \n",
       "146859           56808         10300                  58215         13300   \n",
       "146860          138420         22100                 142799         29000   \n",
       "146861           33459          7700                  33216         25900   \n",
       "146862           27046          6900                  36610         18700   \n",
       "146863           39906         33200                  29951         43100   \n",
       "146864           52176         14900                  50744         36900   \n",
       "146865           80456         17900                 111637         21200   \n",
       "146866           24205          7000                  20969         14600   \n",
       "146867           26613         49100                      0         66000   \n",
       "146868           36001         12500                  43602         67300   \n",
       "146869           45457         16300                  45160         25800   \n",
       "146870           46955         20100                  49575         24100   \n",
       "146871           43546          6700                  56883         21000   \n",
       "146872          202751         26300                 190528         39400   \n",
       "146873           22618         43500                      0         50500   \n",
       "146874           53657          3900                  53176         16500   \n",
       "146875           37920          4800                  43276         12300   \n",
       "146876           60723         59700                  28720         68700   \n",
       "146877           58538         20000                  44912         42600   \n",
       "146878          114316         59900                 116057         87900   \n",
       "146879           33418         30300                      0         44800   \n",
       "\n",
       "       totcollamt  totcurbal  tothicredlim  addrstate_freq  \n",
       "0               0     162110        179407           21979  \n",
       "1               0     149140        196500            4361  \n",
       "2               0      42315         57073            2340  \n",
       "3               0      64426         82331            3635  \n",
       "4               0      38566         52490            5280  \n",
       "5               0     397223        415290            2750  \n",
       "6               0      10133         29971            3402  \n",
       "7               0     373743        428032            4361  \n",
       "8               0     122193        147270           11922  \n",
       "9             900      17281         42943            9867  \n",
       "10              0      23723         24200            3909  \n",
       "11              0     393558        443889            3292  \n",
       "12              0      20539         27300           11922  \n",
       "13              0      22809         30454           21979  \n",
       "14              0      19342         43137            3635  \n",
       "15              0       6941         10300           21979  \n",
       "16              0     239362        283223            9867  \n",
       "17            944        744         39600            2607  \n",
       "18              0     296389        323433            2750  \n",
       "19              0     237795        256151            3334  \n",
       "20              0      36589         62433           11922  \n",
       "21              0      66967        104165            4361  \n",
       "22              0      59352        113062            2750  \n",
       "23              0      37313         46416           11922  \n",
       "24           5098      24481         40239            3402  \n",
       "25              0      15659         32225            9867  \n",
       "26              0     255284        266634            1414  \n",
       "27              0      69669         66350            5084  \n",
       "28              0     221998        290819            5280  \n",
       "29              0      47115         75735            1194  \n",
       "...           ...        ...           ...             ...  \n",
       "146850          0      69148        110949            3292  \n",
       "146851          0      14732         32204            5280  \n",
       "146852        310      54996        115367            1779  \n",
       "146853         54       9124         24482            1914  \n",
       "146854        438      64758         82332            2607  \n",
       "146855          0       6771         12700           11922  \n",
       "146856          0     129285        144400           11830  \n",
       "146857          0     258039        330186            5084  \n",
       "146858        661      24833         61887            4715  \n",
       "146859          0      56808         71515           11922  \n",
       "146860          0     138420        171799            4791  \n",
       "146861          0      33459         59116            1914  \n",
       "146862       1530      27046         55310            1237  \n",
       "146863          0     192249        240781            2340  \n",
       "146864          0     119602        162359            1914  \n",
       "146865        108      80456        132837           11830  \n",
       "146866          0      24205         35569           21979  \n",
       "146867          0      75249        121275            3993  \n",
       "146868        708     262905        340093            3635  \n",
       "146869          0      45457         75174             679  \n",
       "146870          0      46955         73675           21979  \n",
       "146871          0      43546         77883           21979  \n",
       "146872          0     202751        229928            1414  \n",
       "146873          0      22618         50500           11830  \n",
       "146874          0     147772        169651            3909  \n",
       "146875          0     161528        197027           11922  \n",
       "146876          0      60723        103070           21979  \n",
       "146877          0      58538         87512            2137  \n",
       "146878          0     321642        440525            5633  \n",
       "146879          0     290497        303050            4715  \n",
       "\n",
       "[146880 rows x 78 columns]"
      ]
     },
     "execution_count": 37,
     "metadata": {},
     "output_type": "execute_result"
    }
   ],
   "source": [
    "Full_data.drop('addrstate', axis =1)"
   ]
  },
  {
   "cell_type": "code",
   "execution_count": 38,
   "metadata": {
    "collapsed": false
   },
   "outputs": [],
   "source": [
    "#emptitle\n",
    "emptitle_freq = Full_data.groupby(\"emptitle\").size().reset_index()\n",
    "emptitle_freq.columns = [\"emptitle\", \"emptitle_freq\"]\n",
    "Full_data = pd.merge(Full_data, emptitle_freq, how = \"left\", on = \"emptitle\")"
   ]
  },
  {
   "cell_type": "code",
   "execution_count": 39,
   "metadata": {
    "collapsed": false
   },
   "outputs": [
    {
     "data": {
      "text/plain": [
       "0           8 years\n",
       "1         10+ years\n",
       "2           6 years\n",
       "3          < 1 year\n",
       "4         10+ years\n",
       "5          < 1 year\n",
       "6           2 years\n",
       "7           6 years\n",
       "8         10+ years\n",
       "9         10+ years\n",
       "10          8 years\n",
       "11        10+ years\n",
       "12          8 years\n",
       "13          9 years\n",
       "14          7 years\n",
       "15           1 year\n",
       "16          2 years\n",
       "17              n/a\n",
       "18          3 years\n",
       "19        10+ years\n",
       "20          9 years\n",
       "21          5 years\n",
       "22        10+ years\n",
       "23        10+ years\n",
       "24          4 years\n",
       "25          9 years\n",
       "26          5 years\n",
       "27          2 years\n",
       "28         < 1 year\n",
       "29          4 years\n",
       "            ...    \n",
       "146850           24\n",
       "146851          120\n",
       "146852           24\n",
       "146853           48\n",
       "146854           24\n",
       "146855           48\n",
       "146856           36\n",
       "146857          120\n",
       "146858          120\n",
       "146859            0\n",
       "146860           60\n",
       "146861            0\n",
       "146862          120\n",
       "146863          120\n",
       "146864           72\n",
       "146865          120\n",
       "146866          120\n",
       "146867          120\n",
       "146868          120\n",
       "146869          120\n",
       "146870           24\n",
       "146871           36\n",
       "146872           48\n",
       "146873          120\n",
       "146874          120\n",
       "146875           12\n",
       "146876           96\n",
       "146877          120\n",
       "146878          120\n",
       "146879          NaN\n",
       "Name: emplength, dtype: object"
      ]
     },
     "execution_count": 39,
     "metadata": {},
     "output_type": "execute_result"
    }
   ],
   "source": [
    "Full_data.emplength"
   ]
  },
  {
   "cell_type": "code",
   "execution_count": 40,
   "metadata": {
    "collapsed": true
   },
   "outputs": [],
   "source": [
    "# all data\n",
    "Full_data.replace('n/a', np.nan, inplace = True)"
   ]
  },
  {
   "cell_type": "code",
   "execution_count": 41,
   "metadata": {
    "collapsed": true
   },
   "outputs": [],
   "source": [
    "# intrate\n",
    "Full_data.intrate = pd.Series(Full_data.intrate).str.replace('%', '').astype(float)"
   ]
  },
  {
   "cell_type": "code",
   "execution_count": 42,
   "metadata": {
    "collapsed": false
   },
   "outputs": [],
   "source": [
    "# revoluntil\n",
    "Full_data.revolutil = pd.Series(Full_data.revolutil).str.replace('%', '').astype(float)"
   ]
  },
  {
   "cell_type": "code",
   "execution_count": 43,
   "metadata": {
    "collapsed": false
   },
   "outputs": [],
   "source": [
    "# Full_data.emplength ---需要删掉,因current data的数据出错，不是如同历史数据的1-10年\n",
    "Full_data = Full_data.drop('emplength', 1)"
   ]
  },
  {
   "cell_type": "code",
   "execution_count": 44,
   "metadata": {
    "collapsed": true
   },
   "outputs": [],
   "source": [
    "dummy = [\"applicationtype\", \"homeownership\",\"initialliststatus\", \"purpose\",\"term\"]"
   ]
  },
  {
   "cell_type": "code",
   "execution_count": 45,
   "metadata": {
    "collapsed": true
   },
   "outputs": [],
   "source": [
    "term_dic = {\" 36 months\": 1, \" 60 months\":2, 36:1, 60 :2} \n",
    "Full_data.term = Full_data.term.map(term_dic)"
   ]
  },
  {
   "cell_type": "code",
   "execution_count": 46,
   "metadata": {
    "collapsed": false
   },
   "outputs": [
    {
     "data": {
      "text/plain": [
       "0         1\n",
       "1         2\n",
       "2         2\n",
       "3         1\n",
       "4         1\n",
       "5         1\n",
       "6         1\n",
       "7         2\n",
       "8         1\n",
       "9         1\n",
       "10        1\n",
       "11        1\n",
       "12        1\n",
       "13        1\n",
       "14        1\n",
       "15        1\n",
       "16        2\n",
       "17        1\n",
       "18        1\n",
       "19        1\n",
       "20        1\n",
       "21        1\n",
       "22        1\n",
       "23        1\n",
       "24        1\n",
       "25        1\n",
       "26        1\n",
       "27        1\n",
       "28        2\n",
       "29        2\n",
       "         ..\n",
       "146850    1\n",
       "146851    1\n",
       "146852    1\n",
       "146853    1\n",
       "146854    1\n",
       "146855    1\n",
       "146856    1\n",
       "146857    2\n",
       "146858    2\n",
       "146859    2\n",
       "146860    1\n",
       "146861    1\n",
       "146862    1\n",
       "146863    1\n",
       "146864    1\n",
       "146865    1\n",
       "146866    1\n",
       "146867    1\n",
       "146868    1\n",
       "146869    1\n",
       "146870    2\n",
       "146871    1\n",
       "146872    1\n",
       "146873    1\n",
       "146874    1\n",
       "146875    1\n",
       "146876    1\n",
       "146877    1\n",
       "146878    2\n",
       "146879    1\n",
       "Name: term, dtype: int64"
      ]
     },
     "execution_count": 46,
     "metadata": {},
     "output_type": "execute_result"
    }
   ],
   "source": [
    "Full_data.term"
   ]
  },
  {
   "cell_type": "code",
   "execution_count": 47,
   "metadata": {
    "collapsed": false
   },
   "outputs": [
    {
     "data": {
      "text/plain": [
       "<bound method Series.sort of 1    110468\n",
       "2     36412\n",
       "Name: term, dtype: int64>"
      ]
     },
     "execution_count": 47,
     "metadata": {},
     "output_type": "execute_result"
    }
   ],
   "source": [
    "Full_data.term.value_counts().sort\n"
   ]
  },
  {
   "cell_type": "code",
   "execution_count": 48,
   "metadata": {
    "collapsed": false
   },
   "outputs": [
    {
     "name": "stdout",
     "output_type": "stream",
     "text": [
      "Label encoding  applicationtype\n",
      "{'INDIVIDUAL': 0, 'JOINT': 1}\n",
      "['INDIVIDUAL' 'JOINT']\n",
      "Label encoding  homeownership\n",
      "{'ANY': 0, 'RENT': 3, 'OWN': 2, 'MORTGAGE': 1}\n",
      "['ANY' 'MORTGAGE' 'OWN' 'RENT']\n",
      "Label encoding  initialliststatus\n",
      "{'F': 0, 'f': 1, 'w': 2}\n",
      "['F' 'f' 'w']\n",
      "Label encoding  purpose\n",
      "{'home_improvement': 3, 'medical': 6, 'vacation': 11, 'debt_consolidation': 2, 'moving': 7, 'credit_card': 1, 'renewable_energy': 9, 'house': 4, 'other': 8, 'small_business': 10, 'major_purchase': 5, 'wedding': 12, 'car': 0}\n",
      "['car' 'credit_card' 'debt_consolidation' 'home_improvement' 'house'\n",
      " 'major_purchase' 'medical' 'moving' 'other' 'renewable_energy'\n",
      " 'small_business' 'vacation' 'wedding']\n",
      "Label encoding  term\n",
      "{1: 0, 2: 1}\n",
      "[1 2]\n"
     ]
    }
   ],
   "source": [
    "from sklearn import preprocessing\n",
    "# lets try if label encoder can replace np.nan\n",
    "# full_data = full_data.replace(np.nan, 'null')\n",
    "\n",
    "for col in dummy:\n",
    "    print (\"Label encoding  %s\" % (col))\n",
    "    LBL = preprocessing.LabelEncoder() #1\n",
    "    LBL.fit(Full_data[col])#2\n",
    "    labels = dict(zip(Full_data[col].unique()\n",
    "               , LBL.transform(Full_data[col].unique())))\n",
    "    print (labels)\n",
    "    print (LBL.classes_)\n",
    "    Full_data[col]=LBL.transform(Full_data[col])#3"
   ]
  },
  {
   "cell_type": "markdown",
   "metadata": {},
   "source": []
  },
  {
   "cell_type": "code",
   "execution_count": 49,
   "metadata": {
    "collapsed": false
   },
   "outputs": [
    {
     "name": "stdout",
     "output_type": "stream",
     "text": [
      "1    74369\n",
      "3    58422\n",
      "2    14088\n",
      "0        1\n",
      "Name: homeownership, dtype: int64\n",
      "2    73695\n",
      "1    73101\n",
      "0       84\n",
      "Name: initialliststatus, dtype: int64\n",
      "2     90104\n",
      "1     33480\n",
      "3      8034\n",
      "8      6467\n",
      "5      2392\n",
      "6      1526\n",
      "10     1456\n",
      "0      1168\n",
      "7       870\n",
      "11      781\n",
      "4       510\n",
      "9        88\n",
      "12        4\n",
      "Name: purpose, dtype: int64\n",
      "0    146873\n",
      "1         7\n",
      "Name: applicationtype, dtype: int64\n"
     ]
    }
   ],
   "source": [
    "print(Full_data.homeownership.value_counts())\n",
    "print(Full_data.initialliststatus.value_counts())\n",
    "print(Full_data.purpose.value_counts())\n",
    "print(Full_data.applicationtype.value_counts())"
   ]
  },
  {
   "cell_type": "code",
   "execution_count": null,
   "metadata": {
    "collapsed": false
   },
   "outputs": [],
   "source": []
  },
  {
   "cell_type": "code",
   "execution_count": 50,
   "metadata": {
    "collapsed": false
   },
   "outputs": [
    {
     "data": {
      "text/plain": [
       "79"
      ]
     },
     "execution_count": 50,
     "metadata": {},
     "output_type": "execute_result"
    }
   ],
   "source": [
    "len(Full_data.columns)"
   ]
  },
  {
   "cell_type": "code",
   "execution_count": 51,
   "metadata": {
    "collapsed": false
   },
   "outputs": [],
   "source": [
    "# #full_data = full_data.replace(np.nan, 'null')\n",
    "# from sklearn.preprocessing import OneHotEncoder\n",
    "# enc = OneHotEncoder()\n",
    "# enc.fit_transform(Full_data[])\n",
    "# Full_data['applicationtype']= enc.transform(Full_data['applicationtype'])\n",
    "# #full_data = full_data.drop('gender', axis =1)\n",
    "# #full_data = full_data.join(a)"
   ]
  },
  {
   "cell_type": "code",
   "execution_count": 52,
   "metadata": {
    "collapsed": false
   },
   "outputs": [],
   "source": [
    "# 'applicationtype','homeownership','initialliststatus','purpose'\n",
    "one_hot = pd.get_dummies(Full_data['homeownership'])\n",
    "Full_data = Full_data.drop('homeownership', axis =1)\n",
    "Full_data = Full_data.join(one_hot)"
   ]
  },
  {
   "cell_type": "code",
   "execution_count": 53,
   "metadata": {
    "collapsed": false
   },
   "outputs": [
    {
     "data": {
      "text/plain": [
       "82"
      ]
     },
     "execution_count": 53,
     "metadata": {},
     "output_type": "execute_result"
    }
   ],
   "source": [
    "len(Full_data.columns)"
   ]
  },
  {
   "cell_type": "code",
   "execution_count": 54,
   "metadata": {
    "collapsed": false
   },
   "outputs": [
    {
     "data": {
      "text/html": [
       "<div>\n",
       "<table border=\"1\" class=\"dataframe\">\n",
       "  <thead>\n",
       "    <tr style=\"text-align: right;\">\n",
       "      <th></th>\n",
       "      <th>accnowdelinq</th>\n",
       "      <th>accopenpast24mths</th>\n",
       "      <th>addrstate</th>\n",
       "      <th>annualinc</th>\n",
       "      <th>annualincjoint</th>\n",
       "      <th>applicationtype</th>\n",
       "      <th>avgcurbal</th>\n",
       "      <th>bcopentobuy</th>\n",
       "      <th>bcutil</th>\n",
       "      <th>chargeoffwithin12mths</th>\n",
       "      <th>...</th>\n",
       "      <th>totalrevhilim</th>\n",
       "      <th>totcollamt</th>\n",
       "      <th>totcurbal</th>\n",
       "      <th>tothicredlim</th>\n",
       "      <th>addrstate_freq</th>\n",
       "      <th>emptitle_freq</th>\n",
       "      <th>0</th>\n",
       "      <th>1</th>\n",
       "      <th>2</th>\n",
       "      <th>3</th>\n",
       "    </tr>\n",
       "  </thead>\n",
       "  <tbody>\n",
       "    <tr>\n",
       "      <th>0</th>\n",
       "      <td>0</td>\n",
       "      <td>7</td>\n",
       "      <td>CA</td>\n",
       "      <td>58000.0</td>\n",
       "      <td>NaN</td>\n",
       "      <td>0</td>\n",
       "      <td>9536.0</td>\n",
       "      <td>7599.0</td>\n",
       "      <td>41.5</td>\n",
       "      <td>0</td>\n",
       "      <td>...</td>\n",
       "      <td>19400</td>\n",
       "      <td>0</td>\n",
       "      <td>162110</td>\n",
       "      <td>179407</td>\n",
       "      <td>21979</td>\n",
       "      <td>1.0</td>\n",
       "      <td>0.0</td>\n",
       "      <td>1.0</td>\n",
       "      <td>0.0</td>\n",
       "      <td>0.0</td>\n",
       "    </tr>\n",
       "    <tr>\n",
       "      <th>1</th>\n",
       "      <td>0</td>\n",
       "      <td>5</td>\n",
       "      <td>VA</td>\n",
       "      <td>78000.0</td>\n",
       "      <td>NaN</td>\n",
       "      <td>0</td>\n",
       "      <td>29828.0</td>\n",
       "      <td>9525.0</td>\n",
       "      <td>4.7</td>\n",
       "      <td>0</td>\n",
       "      <td>...</td>\n",
       "      <td>184500</td>\n",
       "      <td>0</td>\n",
       "      <td>149140</td>\n",
       "      <td>196500</td>\n",
       "      <td>4361</td>\n",
       "      <td>5.0</td>\n",
       "      <td>0.0</td>\n",
       "      <td>0.0</td>\n",
       "      <td>0.0</td>\n",
       "      <td>1.0</td>\n",
       "    </tr>\n",
       "    <tr>\n",
       "      <th>2</th>\n",
       "      <td>0</td>\n",
       "      <td>4</td>\n",
       "      <td>MO</td>\n",
       "      <td>63800.0</td>\n",
       "      <td>NaN</td>\n",
       "      <td>0</td>\n",
       "      <td>4232.0</td>\n",
       "      <td>324.0</td>\n",
       "      <td>97.8</td>\n",
       "      <td>0</td>\n",
       "      <td>...</td>\n",
       "      <td>21500</td>\n",
       "      <td>0</td>\n",
       "      <td>42315</td>\n",
       "      <td>57073</td>\n",
       "      <td>2340</td>\n",
       "      <td>1.0</td>\n",
       "      <td>0.0</td>\n",
       "      <td>0.0</td>\n",
       "      <td>0.0</td>\n",
       "      <td>1.0</td>\n",
       "    </tr>\n",
       "    <tr>\n",
       "      <th>3</th>\n",
       "      <td>0</td>\n",
       "      <td>6</td>\n",
       "      <td>AZ</td>\n",
       "      <td>50000.0</td>\n",
       "      <td>NaN</td>\n",
       "      <td>0</td>\n",
       "      <td>5857.0</td>\n",
       "      <td>332.0</td>\n",
       "      <td>93.2</td>\n",
       "      <td>0</td>\n",
       "      <td>...</td>\n",
       "      <td>18300</td>\n",
       "      <td>0</td>\n",
       "      <td>64426</td>\n",
       "      <td>82331</td>\n",
       "      <td>3635</td>\n",
       "      <td>15.0</td>\n",
       "      <td>0.0</td>\n",
       "      <td>0.0</td>\n",
       "      <td>0.0</td>\n",
       "      <td>1.0</td>\n",
       "    </tr>\n",
       "    <tr>\n",
       "      <th>4</th>\n",
       "      <td>0</td>\n",
       "      <td>8</td>\n",
       "      <td>NJ</td>\n",
       "      <td>69000.0</td>\n",
       "      <td>NaN</td>\n",
       "      <td>0</td>\n",
       "      <td>3214.0</td>\n",
       "      <td>6494.0</td>\n",
       "      <td>69.2</td>\n",
       "      <td>0</td>\n",
       "      <td>...</td>\n",
       "      <td>27600</td>\n",
       "      <td>0</td>\n",
       "      <td>38566</td>\n",
       "      <td>52490</td>\n",
       "      <td>5280</td>\n",
       "      <td>5.0</td>\n",
       "      <td>0.0</td>\n",
       "      <td>0.0</td>\n",
       "      <td>0.0</td>\n",
       "      <td>1.0</td>\n",
       "    </tr>\n",
       "  </tbody>\n",
       "</table>\n",
       "<p>5 rows × 82 columns</p>\n",
       "</div>"
      ],
      "text/plain": [
       "   accnowdelinq  accopenpast24mths addrstate  annualinc  annualincjoint  \\\n",
       "0             0                  7        CA    58000.0             NaN   \n",
       "1             0                  5        VA    78000.0             NaN   \n",
       "2             0                  4        MO    63800.0             NaN   \n",
       "3             0                  6        AZ    50000.0             NaN   \n",
       "4             0                  8        NJ    69000.0             NaN   \n",
       "\n",
       "   applicationtype  avgcurbal  bcopentobuy  bcutil  chargeoffwithin12mths  \\\n",
       "0                0     9536.0       7599.0    41.5                      0   \n",
       "1                0    29828.0       9525.0     4.7                      0   \n",
       "2                0     4232.0        324.0    97.8                      0   \n",
       "3                0     5857.0        332.0    93.2                      0   \n",
       "4                0     3214.0       6494.0    69.2                      0   \n",
       "\n",
       "  ...   totalrevhilim  totcollamt  totcurbal  tothicredlim  addrstate_freq  \\\n",
       "0 ...           19400           0     162110        179407           21979   \n",
       "1 ...          184500           0     149140        196500            4361   \n",
       "2 ...           21500           0      42315         57073            2340   \n",
       "3 ...           18300           0      64426         82331            3635   \n",
       "4 ...           27600           0      38566         52490            5280   \n",
       "\n",
       "  emptitle_freq    0    1    2    3  \n",
       "0           1.0  0.0  1.0  0.0  0.0  \n",
       "1           5.0  0.0  0.0  0.0  1.0  \n",
       "2           1.0  0.0  0.0  0.0  1.0  \n",
       "3          15.0  0.0  0.0  0.0  1.0  \n",
       "4           5.0  0.0  0.0  0.0  1.0  \n",
       "\n",
       "[5 rows x 82 columns]"
      ]
     },
     "execution_count": 54,
     "metadata": {},
     "output_type": "execute_result"
    }
   ],
   "source": [
    "Full_data.head(5)"
   ]
  },
  {
   "cell_type": "code",
   "execution_count": 55,
   "metadata": {
    "collapsed": true
   },
   "outputs": [],
   "source": [
    "Full_data.columns = Full_data.columns.astype(str)"
   ]
  },
  {
   "cell_type": "code",
   "execution_count": 56,
   "metadata": {
    "collapsed": true
   },
   "outputs": [],
   "source": [
    "# 需要 rename!!!!\n",
    "# 需要转字符串\n",
    "Full_data = Full_data.rename(columns={'0': 'homeownership_0'})\n",
    "Full_data = Full_data.rename(columns={'1': 'homeownership_1'})\n",
    "Full_data = Full_data.rename(columns={'2': 'homeownership_2'})\n",
    "Full_data = Full_data.rename(columns={'3': 'homeownership_3'})\n",
    "# Full_data.columns"
   ]
  },
  {
   "cell_type": "code",
   "execution_count": 57,
   "metadata": {
    "collapsed": false
   },
   "outputs": [],
   "source": [
    "one_hot1 = pd.get_dummies(Full_data['initialliststatus'])\n",
    "Full_data = Full_data.drop('initialliststatus', axis =1)\n",
    "Full_data = Full_data.join(one_hot1)"
   ]
  },
  {
   "cell_type": "code",
   "execution_count": 58,
   "metadata": {
    "collapsed": true
   },
   "outputs": [],
   "source": [
    "Full_data.columns = Full_data.columns.astype(str)\n",
    "Full_data = Full_data.rename(columns={'0': 'initialliststatus_0'})\n",
    "Full_data = Full_data.rename(columns={'1': 'initialliststatus_1'})\n",
    "Full_data = Full_data.rename(columns={'2': 'initialliststatus_2'})"
   ]
  },
  {
   "cell_type": "code",
   "execution_count": 59,
   "metadata": {
    "collapsed": false
   },
   "outputs": [
    {
     "data": {
      "text/plain": [
       "Index(['accnowdelinq', 'accopenpast24mths', 'addrstate', 'annualinc',\n",
       "       'annualincjoint', 'applicationtype', 'avgcurbal', 'bcopentobuy',\n",
       "       'bcutil', 'chargeoffwithin12mths', 'collections12mthsexmed',\n",
       "       'delinq2yrs', 'delinqamnt', 'dti', 'dtijoint', 'earliestcrline',\n",
       "       'emptitle', 'flag', 'fundedamnt', 'grade', 'ilutil', 'inqlast6mths',\n",
       "       'installment', 'intrate', 'issued', 'lastcreditpulld', 'loanamnt',\n",
       "       'loanstatus', 'maxbalbc', 'mortacc', 'mosinoldilacct',\n",
       "       'mosinoldrevtlop', 'mosinrcntrevtlop', 'mosinrcnttl',\n",
       "       'mthssincelastdelinq', 'mthssincelastmajorderog', 'mthssincelastrecord',\n",
       "       'mthssincercntil', 'mthssincerecentbc', 'mthssincerecentbcdlq',\n",
       "       'mthssincerecentinq', 'mthssincerecentrevoldelinq', 'numacctsever120pd',\n",
       "       'numactvbctl', 'numactvrevtl', 'numbcsats', 'numbctl', 'numiltl',\n",
       "       'numoprevtl', 'numrevaccts', 'numrevtlbalgt0', 'numsats',\n",
       "       'numtl120dpd2m', 'numtl30dpd', 'numtl90gdpd24m', 'numtloppast12m',\n",
       "       'openacc', 'pcttlnvrdlq', 'percentbcgt75', 'pubrec',\n",
       "       'pubrecbankruptcies', 'purpose', 'revolbal', 'revolutil', 'subgrade',\n",
       "       'taxliens', 'term', 'totalacc', 'totalbalexmort', 'totalbclimit',\n",
       "       'totalilhighcreditlimit', 'totalrevhilim', 'totcollamt', 'totcurbal',\n",
       "       'tothicredlim', 'addrstate_freq', 'emptitle_freq', 'homeownership_0',\n",
       "       'homeownership_1', 'homeownership_2', 'homeownership_3',\n",
       "       'initialliststatus_0', 'initialliststatus_1', 'initialliststatus_2'],\n",
       "      dtype='object')"
      ]
     },
     "execution_count": 59,
     "metadata": {},
     "output_type": "execute_result"
    }
   ],
   "source": [
    "Full_data.columns"
   ]
  },
  {
   "cell_type": "code",
   "execution_count": 60,
   "metadata": {
    "collapsed": false
   },
   "outputs": [],
   "source": [
    "one_hot3 = pd.get_dummies(Full_data['purpose'])\n",
    "Full_data = Full_data.drop('purpose', axis =1)\n",
    "Full_data = Full_data.join(one_hot3)"
   ]
  },
  {
   "cell_type": "code",
   "execution_count": 61,
   "metadata": {
    "collapsed": false
   },
   "outputs": [],
   "source": [
    "Full_data.columns = Full_data.columns.astype(str)\n",
    "Full_data = Full_data.rename(columns={'0': 'purpuse_0'})\n",
    "Full_data = Full_data.rename(columns={'1': 'purpuse_1'})\n",
    "Full_data = Full_data.rename(columns={'2': 'purpuse_2'})\n",
    "Full_data = Full_data.rename(columns={'3': 'purpuse_3'})\n",
    "Full_data = Full_data.rename(columns={'4': 'purpuse_4'})\n",
    "Full_data = Full_data.rename(columns={'5': 'purpuse_5'})\n",
    "Full_data = Full_data.rename(columns={'6': 'purpuse_6'})\n",
    "Full_data = Full_data.rename(columns={'7': 'purpuse_7'})\n",
    "Full_data = Full_data.rename(columns={'8': 'purpuse_8'})\n",
    "Full_data = Full_data.rename(columns={'9': 'purpuse_9'})\n",
    "Full_data = Full_data.rename(columns={'10': 'purpuse_10'})\n",
    "Full_data = Full_data.rename(columns={'11': 'purpuse_11'})\n",
    "Full_data = Full_data.rename(columns={'12': 'purpuse_12'})"
   ]
  },
  {
   "cell_type": "code",
   "execution_count": 62,
   "metadata": {
    "collapsed": false
   },
   "outputs": [
    {
     "data": {
      "text/html": [
       "<div>\n",
       "<table border=\"1\" class=\"dataframe\">\n",
       "  <thead>\n",
       "    <tr style=\"text-align: right;\">\n",
       "      <th></th>\n",
       "      <th>accnowdelinq</th>\n",
       "      <th>accopenpast24mths</th>\n",
       "      <th>addrstate</th>\n",
       "      <th>annualinc</th>\n",
       "      <th>annualincjoint</th>\n",
       "      <th>applicationtype</th>\n",
       "      <th>avgcurbal</th>\n",
       "      <th>bcopentobuy</th>\n",
       "      <th>bcutil</th>\n",
       "      <th>chargeoffwithin12mths</th>\n",
       "      <th>...</th>\n",
       "      <th>purpuse_3</th>\n",
       "      <th>purpuse_4</th>\n",
       "      <th>purpuse_5</th>\n",
       "      <th>purpuse_6</th>\n",
       "      <th>purpuse_7</th>\n",
       "      <th>purpuse_8</th>\n",
       "      <th>purpuse_9</th>\n",
       "      <th>purpuse_10</th>\n",
       "      <th>purpuse_11</th>\n",
       "      <th>purpuse_12</th>\n",
       "    </tr>\n",
       "  </thead>\n",
       "  <tbody>\n",
       "    <tr>\n",
       "      <th>0</th>\n",
       "      <td>0</td>\n",
       "      <td>7</td>\n",
       "      <td>CA</td>\n",
       "      <td>58000.0</td>\n",
       "      <td>NaN</td>\n",
       "      <td>0</td>\n",
       "      <td>9536.0</td>\n",
       "      <td>7599.0</td>\n",
       "      <td>41.5</td>\n",
       "      <td>0</td>\n",
       "      <td>...</td>\n",
       "      <td>0.0</td>\n",
       "      <td>0.0</td>\n",
       "      <td>0.0</td>\n",
       "      <td>0.0</td>\n",
       "      <td>0.0</td>\n",
       "      <td>0.0</td>\n",
       "      <td>0.0</td>\n",
       "      <td>0.0</td>\n",
       "      <td>0.0</td>\n",
       "      <td>0.0</td>\n",
       "    </tr>\n",
       "    <tr>\n",
       "      <th>1</th>\n",
       "      <td>0</td>\n",
       "      <td>5</td>\n",
       "      <td>VA</td>\n",
       "      <td>78000.0</td>\n",
       "      <td>NaN</td>\n",
       "      <td>0</td>\n",
       "      <td>29828.0</td>\n",
       "      <td>9525.0</td>\n",
       "      <td>4.7</td>\n",
       "      <td>0</td>\n",
       "      <td>...</td>\n",
       "      <td>0.0</td>\n",
       "      <td>0.0</td>\n",
       "      <td>0.0</td>\n",
       "      <td>0.0</td>\n",
       "      <td>0.0</td>\n",
       "      <td>0.0</td>\n",
       "      <td>0.0</td>\n",
       "      <td>0.0</td>\n",
       "      <td>0.0</td>\n",
       "      <td>0.0</td>\n",
       "    </tr>\n",
       "    <tr>\n",
       "      <th>2</th>\n",
       "      <td>0</td>\n",
       "      <td>4</td>\n",
       "      <td>MO</td>\n",
       "      <td>63800.0</td>\n",
       "      <td>NaN</td>\n",
       "      <td>0</td>\n",
       "      <td>4232.0</td>\n",
       "      <td>324.0</td>\n",
       "      <td>97.8</td>\n",
       "      <td>0</td>\n",
       "      <td>...</td>\n",
       "      <td>0.0</td>\n",
       "      <td>0.0</td>\n",
       "      <td>0.0</td>\n",
       "      <td>0.0</td>\n",
       "      <td>0.0</td>\n",
       "      <td>0.0</td>\n",
       "      <td>0.0</td>\n",
       "      <td>0.0</td>\n",
       "      <td>0.0</td>\n",
       "      <td>0.0</td>\n",
       "    </tr>\n",
       "  </tbody>\n",
       "</table>\n",
       "<p>3 rows × 96 columns</p>\n",
       "</div>"
      ],
      "text/plain": [
       "   accnowdelinq  accopenpast24mths addrstate  annualinc  annualincjoint  \\\n",
       "0             0                  7        CA    58000.0             NaN   \n",
       "1             0                  5        VA    78000.0             NaN   \n",
       "2             0                  4        MO    63800.0             NaN   \n",
       "\n",
       "   applicationtype  avgcurbal  bcopentobuy  bcutil  chargeoffwithin12mths  \\\n",
       "0                0     9536.0       7599.0    41.5                      0   \n",
       "1                0    29828.0       9525.0     4.7                      0   \n",
       "2                0     4232.0        324.0    97.8                      0   \n",
       "\n",
       "      ...      purpuse_3  purpuse_4  purpuse_5  purpuse_6  purpuse_7  \\\n",
       "0     ...            0.0        0.0        0.0        0.0        0.0   \n",
       "1     ...            0.0        0.0        0.0        0.0        0.0   \n",
       "2     ...            0.0        0.0        0.0        0.0        0.0   \n",
       "\n",
       "  purpuse_8 purpuse_9  purpuse_10  purpuse_11  purpuse_12  \n",
       "0       0.0       0.0         0.0         0.0         0.0  \n",
       "1       0.0       0.0         0.0         0.0         0.0  \n",
       "2       0.0       0.0         0.0         0.0         0.0  \n",
       "\n",
       "[3 rows x 96 columns]"
      ]
     },
     "execution_count": 62,
     "metadata": {},
     "output_type": "execute_result"
    }
   ],
   "source": [
    "Full_data.head(3)"
   ]
  },
  {
   "cell_type": "code",
   "execution_count": 63,
   "metadata": {
    "collapsed": false
   },
   "outputs": [],
   "source": [
    "one_hot4 = pd.get_dummies(Full_data['applicationtype'])\n",
    "Full_data = Full_data.drop('applicationtype', axis =1)\n",
    "Full_data = Full_data.join(one_hot4)"
   ]
  },
  {
   "cell_type": "code",
   "execution_count": 64,
   "metadata": {
    "collapsed": true
   },
   "outputs": [],
   "source": [
    "Full_data = Full_data.rename(columns={'0': 'applicationtype_0'})\n",
    "Full_data = Full_data.rename(columns={'1': 'applicationtype_1'})"
   ]
  },
  {
   "cell_type": "markdown",
   "metadata": {},
   "source": [
    "# Drop Items"
   ]
  },
  {
   "cell_type": "code",
   "execution_count": 65,
   "metadata": {
    "collapsed": false
   },
   "outputs": [],
   "source": [
    "# i dropped three columns that i can not do anything for now. i will figure them out later.\n",
    "# Full_data = Full_data.drop('term', axis = 1) # 已还原\n",
    "Full_data = Full_data.drop('earliestcrline', axis = 1)  #因是年-月形式 -应还原，做label encoding\n",
    "Full_data = Full_data.drop('lastcreditpulld', axis = 1) #因是年-月形式 -应还原，做label encoding\n",
    "Full_data = Full_data.drop('addrstate', axis = 1) #BEFORE SHOULD HAVE DELETED\n",
    "Full_data = Full_data.drop('emptitle', axis = 1) #BEFORE SHOULD HAVE DELETED\n",
    "Full_data = Full_data.drop('issued', axis = 1) #BEFORE SHOULD HAVE DELETED\n",
    "# for column_name in Full_data.columns.values:\n",
    "#     print (column_name, \":  \", Full_data[column_name].dtype)"
   ]
  },
  {
   "cell_type": "markdown",
   "metadata": {},
   "source": [
    "# NAN的处理"
   ]
  },
  {
   "cell_type": "code",
   "execution_count": 66,
   "metadata": {
    "collapsed": true
   },
   "outputs": [],
   "source": [
    "Full_data = Full_data.drop('annualincjoint', axis = 1)\n",
    "Full_data = Full_data.drop('dtijoint', axis = 1)\n",
    "Full_data = Full_data.drop('ilutil', axis = 1)\n",
    "Full_data = Full_data.drop('maxbalbc', axis = 1)\n",
    "Full_data = Full_data.drop('mthssincercntil', axis = 1)"
   ]
  },
  {
   "cell_type": "code",
   "execution_count": 67,
   "metadata": {
    "collapsed": false
   },
   "outputs": [],
   "source": [
    "Full_data = Full_data.fillna(Full_data.median())"
   ]
  },
  {
   "cell_type": "markdown",
   "metadata": {},
   "source": [
    "# Prepare Train & Test"
   ]
  },
  {
   "cell_type": "code",
   "execution_count": 68,
   "metadata": {
    "collapsed": false
   },
   "outputs": [],
   "source": [
    "train = Full_data.loc[Full_data['flag'] == 0]\n",
    "test = Full_data.loc[Full_data['flag'] == 1]\n",
    "test_predict = Full_data.loc[Full_data['flag'] == 2]"
   ]
  },
  {
   "cell_type": "code",
   "execution_count": 69,
   "metadata": {
    "collapsed": false
   },
   "outputs": [
    {
     "name": "stdout",
     "output_type": "stream",
     "text": [
      "37577 109219 84\n",
      "146880\n"
     ]
    }
   ],
   "source": [
    "print (len(train), len(test), len(test_predict))\n",
    "print (len(Full_data))"
   ]
  },
  {
   "cell_type": "code",
   "execution_count": 70,
   "metadata": {
    "collapsed": true
   },
   "outputs": [],
   "source": [
    "X_train = train.drop(\"loanstatus\", axis=1)\n",
    "Y_train = train[\"loanstatus\"]\n",
    "X_test = test.drop(\"loanstatus\", axis=1)\n",
    "Y_test = test[\"loanstatus\"]\n",
    "X_test_predict = test_predict.drop(\"loanstatus\", axis=1)\n",
    "Y_test_predict = test_predict[\"loanstatus\"]"
   ]
  },
  {
   "cell_type": "code",
   "execution_count": 71,
   "metadata": {
    "collapsed": false
   },
   "outputs": [
    {
     "name": "stdout",
     "output_type": "stream",
     "text": [
      "37577 86 37577\n"
     ]
    }
   ],
   "source": [
    "print(len(X_train), len(X_train.columns), len(Y_train))"
   ]
  },
  {
   "cell_type": "markdown",
   "metadata": {},
   "source": [
    "# Model Tuning"
   ]
  },
  {
   "cell_type": "code",
   "execution_count": 72,
   "metadata": {
    "collapsed": false
   },
   "outputs": [
    {
     "data": {
      "text/html": [
       "<div>\n",
       "<table border=\"1\" class=\"dataframe\">\n",
       "  <thead>\n",
       "    <tr style=\"text-align: right;\">\n",
       "      <th></th>\n",
       "      <th>accnowdelinq</th>\n",
       "      <th>accopenpast24mths</th>\n",
       "      <th>annualinc</th>\n",
       "      <th>avgcurbal</th>\n",
       "      <th>bcopentobuy</th>\n",
       "      <th>bcutil</th>\n",
       "      <th>chargeoffwithin12mths</th>\n",
       "      <th>collections12mthsexmed</th>\n",
       "      <th>delinq2yrs</th>\n",
       "      <th>delinqamnt</th>\n",
       "      <th>...</th>\n",
       "      <th>purpuse_5</th>\n",
       "      <th>purpuse_6</th>\n",
       "      <th>purpuse_7</th>\n",
       "      <th>purpuse_8</th>\n",
       "      <th>purpuse_9</th>\n",
       "      <th>purpuse_10</th>\n",
       "      <th>purpuse_11</th>\n",
       "      <th>purpuse_12</th>\n",
       "      <th>0</th>\n",
       "      <th>1</th>\n",
       "    </tr>\n",
       "  </thead>\n",
       "  <tbody>\n",
       "    <tr>\n",
       "      <th>0</th>\n",
       "      <td>0</td>\n",
       "      <td>7</td>\n",
       "      <td>58000.0</td>\n",
       "      <td>9536.0</td>\n",
       "      <td>7599.0</td>\n",
       "      <td>41.5</td>\n",
       "      <td>0</td>\n",
       "      <td>0</td>\n",
       "      <td>0</td>\n",
       "      <td>0</td>\n",
       "      <td>...</td>\n",
       "      <td>0.0</td>\n",
       "      <td>0.0</td>\n",
       "      <td>0.0</td>\n",
       "      <td>0.0</td>\n",
       "      <td>0.0</td>\n",
       "      <td>0.0</td>\n",
       "      <td>0.0</td>\n",
       "      <td>0.0</td>\n",
       "      <td>1.0</td>\n",
       "      <td>0.0</td>\n",
       "    </tr>\n",
       "    <tr>\n",
       "      <th>1</th>\n",
       "      <td>0</td>\n",
       "      <td>5</td>\n",
       "      <td>78000.0</td>\n",
       "      <td>29828.0</td>\n",
       "      <td>9525.0</td>\n",
       "      <td>4.7</td>\n",
       "      <td>0</td>\n",
       "      <td>0</td>\n",
       "      <td>0</td>\n",
       "      <td>0</td>\n",
       "      <td>...</td>\n",
       "      <td>0.0</td>\n",
       "      <td>0.0</td>\n",
       "      <td>0.0</td>\n",
       "      <td>0.0</td>\n",
       "      <td>0.0</td>\n",
       "      <td>0.0</td>\n",
       "      <td>0.0</td>\n",
       "      <td>0.0</td>\n",
       "      <td>1.0</td>\n",
       "      <td>0.0</td>\n",
       "    </tr>\n",
       "    <tr>\n",
       "      <th>2</th>\n",
       "      <td>0</td>\n",
       "      <td>4</td>\n",
       "      <td>63800.0</td>\n",
       "      <td>4232.0</td>\n",
       "      <td>324.0</td>\n",
       "      <td>97.8</td>\n",
       "      <td>0</td>\n",
       "      <td>0</td>\n",
       "      <td>0</td>\n",
       "      <td>0</td>\n",
       "      <td>...</td>\n",
       "      <td>0.0</td>\n",
       "      <td>0.0</td>\n",
       "      <td>0.0</td>\n",
       "      <td>0.0</td>\n",
       "      <td>0.0</td>\n",
       "      <td>0.0</td>\n",
       "      <td>0.0</td>\n",
       "      <td>0.0</td>\n",
       "      <td>1.0</td>\n",
       "      <td>0.0</td>\n",
       "    </tr>\n",
       "    <tr>\n",
       "      <th>3</th>\n",
       "      <td>0</td>\n",
       "      <td>6</td>\n",
       "      <td>50000.0</td>\n",
       "      <td>5857.0</td>\n",
       "      <td>332.0</td>\n",
       "      <td>93.2</td>\n",
       "      <td>0</td>\n",
       "      <td>0</td>\n",
       "      <td>0</td>\n",
       "      <td>0</td>\n",
       "      <td>...</td>\n",
       "      <td>0.0</td>\n",
       "      <td>0.0</td>\n",
       "      <td>0.0</td>\n",
       "      <td>0.0</td>\n",
       "      <td>0.0</td>\n",
       "      <td>0.0</td>\n",
       "      <td>0.0</td>\n",
       "      <td>0.0</td>\n",
       "      <td>1.0</td>\n",
       "      <td>0.0</td>\n",
       "    </tr>\n",
       "  </tbody>\n",
       "</table>\n",
       "<p>4 rows × 87 columns</p>\n",
       "</div>"
      ],
      "text/plain": [
       "   accnowdelinq  accopenpast24mths  annualinc  avgcurbal  bcopentobuy  bcutil  \\\n",
       "0             0                  7    58000.0     9536.0       7599.0    41.5   \n",
       "1             0                  5    78000.0    29828.0       9525.0     4.7   \n",
       "2             0                  4    63800.0     4232.0        324.0    97.8   \n",
       "3             0                  6    50000.0     5857.0        332.0    93.2   \n",
       "\n",
       "   chargeoffwithin12mths  collections12mthsexmed  delinq2yrs  delinqamnt ...   \\\n",
       "0                      0                       0           0           0 ...    \n",
       "1                      0                       0           0           0 ...    \n",
       "2                      0                       0           0           0 ...    \n",
       "3                      0                       0           0           0 ...    \n",
       "\n",
       "   purpuse_5  purpuse_6  purpuse_7  purpuse_8  purpuse_9  purpuse_10  \\\n",
       "0        0.0        0.0        0.0        0.0        0.0         0.0   \n",
       "1        0.0        0.0        0.0        0.0        0.0         0.0   \n",
       "2        0.0        0.0        0.0        0.0        0.0         0.0   \n",
       "3        0.0        0.0        0.0        0.0        0.0         0.0   \n",
       "\n",
       "   purpuse_11  purpuse_12    0    1  \n",
       "0         0.0         0.0  1.0  0.0  \n",
       "1         0.0         0.0  1.0  0.0  \n",
       "2         0.0         0.0  1.0  0.0  \n",
       "3         0.0         0.0  1.0  0.0  \n",
       "\n",
       "[4 rows x 87 columns]"
      ]
     },
     "execution_count": 72,
     "metadata": {},
     "output_type": "execute_result"
    }
   ],
   "source": [
    "Full_data.head(4)"
   ]
  },
  {
   "cell_type": "code",
   "execution_count": 73,
   "metadata": {
    "collapsed": true
   },
   "outputs": [],
   "source": [
    "# # Check Null\n",
    "# Full_data.iloc[:,1:40].isnull().sum() \n",
    "# Full_data.iloc[:,41:90].isnull().sum() "
   ]
  },
  {
   "cell_type": "markdown",
   "metadata": {},
   "source": [
    "# Random Forest"
   ]
  },
  {
   "cell_type": "code",
   "execution_count": 74,
   "metadata": {
    "collapsed": true
   },
   "outputs": [],
   "source": [
    "from sklearn.ensemble import RandomForestClassifier\n",
    "from sklearn import metrics\n",
    "RF = RandomForestClassifier()#linearregression\n",
    "RF = RF.fit(X_train, Y_train)\n",
    "y_pred = RF.predict(X_test)"
   ]
  },
  {
   "cell_type": "code",
   "execution_count": 75,
   "metadata": {
    "collapsed": false
   },
   "outputs": [
    {
     "name": "stdout",
     "output_type": "stream",
     "text": [
      "             precision    recall  f1-score   support\n",
      "\n",
      "        0.0       0.36      0.27      0.31     22873\n",
      "        1.0       0.82      0.87      0.84     86346\n",
      "\n",
      "avg / total       0.72      0.75      0.73    109219\n",
      "\n"
     ]
    }
   ],
   "source": [
    "print (metrics.classification_report(Y_test, y_pred))# accuracy"
   ]
  },
  {
   "cell_type": "markdown",
   "metadata": {},
   "source": [
    "# Decision Tree"
   ]
  },
  {
   "cell_type": "code",
   "execution_count": 76,
   "metadata": {
    "collapsed": false
   },
   "outputs": [],
   "source": [
    "from sklearn.tree import DecisionTreeClassifier\n",
    "dtc = DecisionTreeClassifier(max_depth=5)  #(可以改max depth)\n",
    "dtc.fit(X_train,Y_train)\n",
    "y_pred1 = dtc.predict(X_test)"
   ]
  },
  {
   "cell_type": "code",
   "execution_count": 77,
   "metadata": {
    "collapsed": false
   },
   "outputs": [
    {
     "name": "stdout",
     "output_type": "stream",
     "text": [
      "(109219,)\n",
      "(109219,)\n",
      "(109219,)\n"
     ]
    }
   ],
   "source": [
    "print(y_pred1.shape)\n",
    "print(y_pred.shape)\n",
    "print(Y_test.shape)"
   ]
  },
  {
   "cell_type": "code",
   "execution_count": 78,
   "metadata": {
    "collapsed": false
   },
   "outputs": [
    {
     "data": {
      "text/plain": [
       "array([ 1.,  1.,  1., ...,  1.,  1.,  1.])"
      ]
     },
     "execution_count": 78,
     "metadata": {},
     "output_type": "execute_result"
    }
   ],
   "source": [
    "y_pred1"
   ]
  },
  {
   "cell_type": "code",
   "execution_count": 79,
   "metadata": {
    "collapsed": false
   },
   "outputs": [
    {
     "name": "stdout",
     "output_type": "stream",
     "text": [
      "             precision    recall  f1-score   support\n",
      "\n",
      "        0.0       0.44      0.11      0.17     22873\n",
      "        1.0       0.80      0.96      0.88     86346\n",
      "\n",
      "avg / total       0.73      0.78      0.73    109219\n",
      "\n"
     ]
    }
   ],
   "source": [
    "print (metrics.classification_report(Y_test, y_pred1))# accuracy"
   ]
  },
  {
   "cell_type": "markdown",
   "metadata": {},
   "source": [
    "# Gradient Boosting Tree"
   ]
  },
  {
   "cell_type": "code",
   "execution_count": 80,
   "metadata": {
    "collapsed": true
   },
   "outputs": [],
   "source": [
    "from sklearn.ensemble import GradientBoostingClassifier, GradientBoostingRegressor"
   ]
  },
  {
   "cell_type": "code",
   "execution_count": 81,
   "metadata": {
    "collapsed": true
   },
   "outputs": [],
   "source": [
    "est = GradientBoostingClassifier(n_estimators=200, max_depth=3)\n",
    "est.fit(X_train, Y_train)\n",
    "Y_pred3 = est.predict(X_test)"
   ]
  },
  {
   "cell_type": "code",
   "execution_count": 82,
   "metadata": {
    "collapsed": false
   },
   "outputs": [
    {
     "name": "stdout",
     "output_type": "stream",
     "text": [
      "             precision    recall  f1-score   support\n",
      "\n",
      "        0.0       0.49      0.16      0.25     22873\n",
      "        1.0       0.81      0.95      0.88     86346\n",
      "\n",
      "avg / total       0.74      0.79      0.75    109219\n",
      "\n"
     ]
    }
   ],
   "source": [
    "print (metrics.classification_report(Y_test, Y_pred3))"
   ]
  },
  {
   "cell_type": "code",
   "execution_count": 83,
   "metadata": {
    "collapsed": true
   },
   "outputs": [],
   "source": [
    "Y_pred_target = est.predict(X_test_predict)"
   ]
  },
  {
   "cell_type": "markdown",
   "metadata": {},
   "source": [
    "### 使用调参后的GradientBoostingClassifier"
   ]
  },
  {
   "cell_type": "code",
   "execution_count": 84,
   "metadata": {
    "collapsed": false
   },
   "outputs": [
    {
     "name": "stdout",
     "output_type": "stream",
     "text": [
      "             precision    recall  f1-score   support\n",
      "\n",
      "        0.0       0.45      0.20      0.27     22873\n",
      "        1.0       0.81      0.94      0.87     86346\n",
      "\n",
      "avg / total       0.74      0.78      0.75    109219\n",
      "\n"
     ]
    }
   ],
   "source": [
    "est2 = GradientBoostingClassifier(n_estimators=500, max_depth=5)\n",
    "est2.fit(X_train, Y_train)\n",
    "Y_pred4 = est2.predict(X_test)\n",
    "print (metrics.classification_report(Y_test, Y_pred4))"
   ]
  },
  {
   "cell_type": "code",
   "execution_count": 85,
   "metadata": {
    "collapsed": false
   },
   "outputs": [],
   "source": [
    "Y_pred_target = est2.predict(X_test_predict)\n",
    "import pandas as pd\n",
    "predictionFile = pd.DataFrame(Y_pred_target).to_csv('/Users/Stephanie_Zhang/Desktop/LendingClub项目/Submmission.csv', index=False)"
   ]
  },
  {
   "cell_type": "code",
   "execution_count": 86,
   "metadata": {
    "collapsed": false
   },
   "outputs": [],
   "source": [
    "# 由于运行时间较长，不再重新运行；已将运行结果的parameter用于上述\n",
    "# from sklearn import metrics, grid_search\n",
    "# from sklearn.model_selection import cross_val_score\n",
    "# def search_model(x_train, y_train, est, param_grid, n_jobs, cv, refit=False):\n",
    "# ##Grid Search for the best model\n",
    "#     model = grid_search.GridSearchCV(estimator  = est,\n",
    "#                                      param_grid = param_grid,\n",
    "#                                      scoring    = 'f1_weighted',\n",
    "#                                      verbose    = 10,\n",
    "#                                      n_jobs  = n_jobs,\n",
    "#                                      iid    = True,\n",
    "#                                      refit    = refit,\n",
    "#                                      cv      = cv)\n",
    "#     # Fit Grid Search Model\n",
    "#     model.fit(x_train, y_train)\n",
    "#     print(\"Best score: %0.3f\" % model.best_score_)\n",
    "#     print(\"Best parameters set:\", model.best_params_)\n",
    "#     print(\"Scores:\", model.grid_scores_)    \n",
    "#     return model"
   ]
  },
  {
   "cell_type": "code",
   "execution_count": 87,
   "metadata": {
    "collapsed": false
   },
   "outputs": [],
   "source": [
    "# np.random.seed(1234)\n",
    "# param_grid = {'n_estimators':[100,300,500],\n",
    "#              'max_depth':[3, 5]}\n",
    "\n",
    "# RF = search_model(X_train.values\n",
    "#             , Y_train.values\n",
    "#             , GradientBoostingClassifier()\n",
    "#             , param_grid\n",
    "#             , -1\n",
    "#             , 5)"
   ]
  },
  {
   "cell_type": "markdown",
   "metadata": {},
   "source": [
    "# SVM "
   ]
  },
  {
   "cell_type": "code",
   "execution_count": 88,
   "metadata": {
    "collapsed": true
   },
   "outputs": [],
   "source": [
    "### SVM - 时间太久，暂不考虑"
   ]
  },
  {
   "cell_type": "code",
   "execution_count": 89,
   "metadata": {
    "collapsed": true
   },
   "outputs": [],
   "source": [
    "# from sklearn import svm\n",
    "# C = 1.0  # SVM regularization parameter\n",
    "# svc = svm.SVC(kernel='linear', C=C).fit(X_train, Y_train)\n",
    "# Y_pred5 = svc.predict(X_test)\n",
    "# print (metrics.classification_report(Y_test, Y_pred6))"
   ]
  },
  {
   "cell_type": "markdown",
   "metadata": {},
   "source": [
    "# Voting Ensemble"
   ]
  },
  {
   "cell_type": "code",
   "execution_count": 90,
   "metadata": {
    "collapsed": true
   },
   "outputs": [],
   "source": [
    "### Voting - 时间太久，暂不考虑"
   ]
  },
  {
   "cell_type": "code",
   "execution_count": 91,
   "metadata": {
    "collapsed": true
   },
   "outputs": [],
   "source": [
    "# # voting ensemble\n",
    "# from sklearn.ensemble import VotingClassifier\n",
    "# from sklearn.model_selection import cross_val_score\n",
    "# clf1 = RandomForestClassifier()#linearregression\n",
    "# clf2 = DecisionTreeClassifier(max_depth=5) \n",
    "# clf3 = GradientBoostingClassifier(n_estimators=500, max_depth=5)\n",
    "# eclf = VotingClassifier(estimators=[('GradientBoosting',clf3), ('DecisionTree', clf2), ('RandomForest', clf1)], voting='hard')\n",
    "# for clf, label in zip([clf1, clf2, clf3, eclf], ['GradientBoosting', 'DecisionTree', 'RandomForest', 'Ensemble']):\n",
    "#     scores = cross_val_score(clf, X_train, Y_train, cv=5, scoring='f1_weighted')\n",
    "#     print (\"Accuracy: %0.2f (+/- %0.2f) [%s]\" % (scores.mean(), scores.std(), label))"
   ]
  },
  {
   "cell_type": "code",
   "execution_count": 92,
   "metadata": {
    "collapsed": true
   },
   "outputs": [],
   "source": [
    "# 后续：我不是很清晰GradientSearchCV里的scoring是什么score.是否和precision/recall/F1-SCORE有可比性"
   ]
  },
  {
   "cell_type": "markdown",
   "metadata": {},
   "source": [
    "# Pickle"
   ]
  },
  {
   "cell_type": "code",
   "execution_count": 94,
   "metadata": {
    "collapsed": false
   },
   "outputs": [
    {
     "data": {
      "text/plain": [
       "['pimaStZ.joblib.dat']"
      ]
     },
     "execution_count": 94,
     "metadata": {},
     "output_type": "execute_result"
    }
   ],
   "source": [
    "from sklearn.externals import joblib\n",
    "joblib.dump(est2, \"pimaStZ.joblib.dat\")"
   ]
  },
  {
   "cell_type": "code",
   "execution_count": 99,
   "metadata": {
    "collapsed": true
   },
   "outputs": [],
   "source": [
    "import pickle\n",
    "pickle.dump(est2, open('modelStZ.pkl', \"wb\"))"
   ]
  },
  {
   "cell_type": "code",
   "execution_count": 97,
   "metadata": {
    "collapsed": false
   },
   "outputs": [
    {
     "ename": "TypeError",
     "evalue": "write() argument must be str, not bytes",
     "output_type": "error",
     "traceback": [
      "\u001b[0;31m---------------------------------------------------------------------------\u001b[0m",
      "\u001b[0;31mTypeError\u001b[0m                                 Traceback (most recent call last)",
      "\u001b[0;32m<ipython-input-97-c2c39c1d64f0>\u001b[0m in \u001b[0;36m<module>\u001b[0;34m()\u001b[0m\n\u001b[1;32m      2\u001b[0m \u001b[0;32mwith\u001b[0m \u001b[0mopen\u001b[0m\u001b[0;34m(\u001b[0m\u001b[0;34m'modelStZ.pkl'\u001b[0m\u001b[0;34m,\u001b[0m \u001b[0;34m'w'\u001b[0m\u001b[0;34m)\u001b[0m \u001b[0;32mas\u001b[0m \u001b[0moutfile\u001b[0m\u001b[0;34m:\u001b[0m\u001b[0;34m\u001b[0m\u001b[0m\n\u001b[1;32m      3\u001b[0m     \u001b[0ma\u001b[0m \u001b[0;34m=\u001b[0m \u001b[0;34m\"test\"\u001b[0m\u001b[0;34m\u001b[0m\u001b[0m\n\u001b[0;32m----> 4\u001b[0;31m     \u001b[0mpickle\u001b[0m\u001b[0;34m.\u001b[0m\u001b[0mdump\u001b[0m\u001b[0;34m(\u001b[0m\u001b[0mest2\u001b[0m\u001b[0;34m,\u001b[0m \u001b[0moutfile\u001b[0m\u001b[0;34m)\u001b[0m\u001b[0;34m\u001b[0m\u001b[0m\n\u001b[0m",
      "\u001b[0;31mTypeError\u001b[0m: write() argument must be str, not bytes"
     ]
    }
   ],
   "source": [
    "# import pickle\n",
    "# with open('modelStZ.pkl', 'w') as outfile:\n",
    "#     a = \"test\"\n",
    "#     pickle.dump(est2, outfile)"
   ]
  },
  {
   "cell_type": "code",
   "execution_count": null,
   "metadata": {
    "collapsed": true
   },
   "outputs": [],
   "source": []
  },
  {
   "cell_type": "code",
   "execution_count": null,
   "metadata": {
    "collapsed": true
   },
   "outputs": [],
   "source": []
  },
  {
   "cell_type": "code",
   "execution_count": null,
   "metadata": {
    "collapsed": true
   },
   "outputs": [],
   "source": []
  },
  {
   "cell_type": "code",
   "execution_count": null,
   "metadata": {
    "collapsed": true
   },
   "outputs": [],
   "source": []
  },
  {
   "cell_type": "code",
   "execution_count": null,
   "metadata": {
    "collapsed": true
   },
   "outputs": [],
   "source": []
  },
  {
   "cell_type": "code",
   "execution_count": null,
   "metadata": {
    "collapsed": true
   },
   "outputs": [],
   "source": []
  }
 ],
 "metadata": {
  "anaconda-cloud": {},
  "kernelspec": {
   "display_name": "Python [Root]",
   "language": "python",
   "name": "Python [Root]"
  },
  "language_info": {
   "codemirror_mode": {
    "name": "ipython",
    "version": 3
   },
   "file_extension": ".py",
   "mimetype": "text/x-python",
   "name": "python",
   "nbconvert_exporter": "python",
   "pygments_lexer": "ipython3",
   "version": "3.5.2"
  }
 },
 "nbformat": 4,
 "nbformat_minor": 0
}
